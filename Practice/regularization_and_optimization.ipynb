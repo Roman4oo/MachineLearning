{
 "cells": [
  {
   "cell_type": "code",
   "execution_count": 19,
   "metadata": {},
   "outputs": [],
   "source": [
    "import numpy as np\n",
    "import pandas as pd\n",
    "\n",
    "from mpl_toolkits.mplot3d import Axes3D\n",
    "import matplotlib.pyplot as plt\n",
    "from matplotlib.colors import ListedColormap\n",
    "cm_bright = ListedColormap(['#BC371B', '#BC881B', '#4FBC1B'])\n",
    "%matplotlib inline\n",
    "\n",
    "from sklearn.datasets import load_iris\n",
    "from sklearn.model_selection import train_test_split\n",
    "from sklearn.metrics import accuracy_score"
   ]
  },
  {
   "cell_type": "code",
   "execution_count": 20,
   "metadata": {},
   "outputs": [],
   "source": [
    "def plot_data(X, y):\n",
    "    ax = plt.gca()\n",
    "    ax.scatter(X[:,0], X[:,1], c=y, cmap=cm_bright)"
   ]
  },
  {
   "cell_type": "code",
   "execution_count": 21,
   "metadata": {},
   "outputs": [],
   "source": [
    "class NeuralNet:\n",
    "    \"\"\"\n",
    "    NN for multi-class classification with mini-batch\n",
    "    Attributes:\n",
    "    ...\n",
    "    \"\"\"\n",
    "    \n",
    "    def __init__(self, mbgd_size, neurons_in_layers, normalize = True, learning_rate = 0.01, num_iter = 30000):\n",
    "        self.mbgd_size = mbgd_size\n",
    "        self.neurons_in_layers = neurons_in_layers\n",
    "        self.learning_rate = learning_rate\n",
    "        self.num_iter = num_iter\n",
    "        self.normalize = normalize\n",
    "    \n",
    "    def __normalize(self, X, mean = None, std = None):\n",
    "        n = X.shape[0]\n",
    "        m = mean\n",
    "        if m is None:\n",
    "            m = np.mean(X, axis=1).reshape((n, 1))\n",
    "        s = std\n",
    "        if s is None:\n",
    "            s = np.std(X, axis=1).reshape((n, 1))\n",
    "        X_new = (X - m) / s**2\n",
    "        return X_new, m, s\n",
    "    \n",
    "    def __softmax(self, Z):\n",
    "        eZ = np.exp(Z - np.max(Z))\n",
    "        return eZ / np.sum(eZ, axis=0, keepdims=True)\n",
    "\n",
    "    def __initialize_parameters(self):\n",
    "        neurons_in_layers = self.neurons_in_layers\n",
    "        parameters = {}\n",
    "        for i in range(1, len(neurons_in_layers)):\n",
    "            parameters[\"W\" + str(i)] = np.random.randn(neurons_in_layers[i], neurons_in_layers[i - 1]) * np.sqrt(1 / neurons_in_layers[i - 1])\n",
    "            parameters[\"b\" + str(i)] = np.zeros((neurons_in_layers[i], 1))\n",
    "        self.parameters = parameters\n",
    "       \n",
    "    def __forward_propagation(self, X):\n",
    "        parameters = self.parameters\n",
    "        caches = []\n",
    "        A = X\n",
    "        L = len(parameters) // 2\n",
    "\n",
    "        for i in range(1, L):\n",
    "            prev_A = A\n",
    "            W = parameters[\"W\"+str(i)]\n",
    "            b = parameters[\"b\"+str(i)]\n",
    "            \n",
    "            Z = np.dot(W, prev_A) + b\n",
    "            linear_cache = (prev_A, W, b)\n",
    "            \n",
    "            A = self.__softmax(Z)\n",
    "            activation_cache = Z\n",
    "            \n",
    "            cache = (linear_cache, activation_cache)            \n",
    "            caches.append(cache)   \n",
    "            \n",
    "        W = parameters[\"W\"+str(L)]\n",
    "        b = parameters[\"b\"+str(L)]\n",
    "        \n",
    "        Z = np.dot(W, A) + b\n",
    "        linear_cache = (A, W, b)\n",
    "            \n",
    "        AL = self.__softmax(Z)\n",
    "        activation_cache = Z\n",
    "            \n",
    "        cache = (linear_cache, activation_cache)            \n",
    "        caches.append(cache)  \n",
    "        \n",
    "        return AL, caches\n",
    "    \n",
    "    def compute_cost(self, A, Y):\n",
    "        J = -np.mean(Y.T * np.log(A.T+ 1e-8))\n",
    "        return J\n",
    "        \n",
    "    def __backward_propagation(self, X, Y, caches):\n",
    "        grads = {}\n",
    "        AL = X\n",
    "        L = len(caches)\n",
    "        m = AL.shape[1]\n",
    "        Y = Y.reshape(AL.shape)\n",
    "        dAL = -(np.divide(Y, AL) - np.divide(1 - Y, 1 - AL))\n",
    "        \n",
    "        linear_cache, activation_cache = caches[L-1]\n",
    "        Z = activation_cache\n",
    "        s = self.__softmax(Z)\n",
    "        dZ = dAL * s * (1 - s)\n",
    "        prev_A, W, b = linear_cache\n",
    "        m = prev_A.shape[1]\n",
    "        dW = 1 / m * np.dot(dZ, prev_A.T)\n",
    "        db = 1 / m * np.sum(dZ, axis=1, keepdims=True)\n",
    "        prev_dA = np.dot(W.T, dZ)\n",
    "        \n",
    "        grads[\"dA\" + str(L-1)] = prev_dA\n",
    "        grads[\"dW\" + str(L)] = dW\n",
    "        grads[\"db\" + str(L)] = db\n",
    "        \n",
    "        for i in reversed(range(L-1)):\n",
    "            linear_cache, activation_cache = caches[i]\n",
    "            Z = activation_cache\n",
    "            s = self.__softmax(Z)\n",
    "            dZ = prev_dA * s * (1 - s)\n",
    "            prev_A, W, b = linear_cache\n",
    "            m = prev_A.shape[1]\n",
    "            dW = 1 / m * np.dot(dZ, prev_A.T)\n",
    "            db = 1 / m * np.sum(dZ, axis=1, keepdims=True)\n",
    "            prev_dA = np.dot(W.T, dZ)\n",
    "            \n",
    "            grads[\"dA\" + str(i)] = prev_dA\n",
    "            grads[\"dW\" + str(i + 1)] = dW\n",
    "            grads[\"db\" + str(i + 1)] = db\n",
    "        return grads\n",
    "   \n",
    "    def __update_parameters(self, grads):\n",
    "        parameters = self.parameters\n",
    "        learning_rate = self.learning_rate\n",
    "\n",
    "        for i in range(len(parameters) // 2):\n",
    "            parameters[\"W\" + str(i+1)] = parameters[\"W\" + str(i+1)] - learning_rate * grads[\"dW\" + str(i+1)]\n",
    "            parameters[\"b\" + str(i+1)] = parameters[\"b\" + str(i+1)] - learning_rate * grads[\"db\" + str(i+1)]\n",
    "            \n",
    "        self.parameters = parameters\n",
    "        \n",
    "    def __shuffle_and_separate(self, X, Y):            \n",
    "        m = X.shape[1]\n",
    "        SS_data = [] #for shuffled and separated data\n",
    "        mbgd_size = self.mbgd_size\n",
    "        \n",
    "        perm = list(np.random.permutation(m))\n",
    "        shuff_X = X[:, perm]        \n",
    "        shuff_Y = Y[:, perm]\n",
    "\n",
    "        for i in range(0, int(np.floor(m/mbgd_size))):\n",
    "            batch_X = shuff_X[:, i*mbgd_size : (i + 1)*mbgd_size]\n",
    "            batch_Y = shuff_Y[:, i*mbgd_size : (i + 1)*mbgd_size]\n",
    "            \n",
    "            batch = (batch_X, batch_Y)\n",
    "            SS_data.append(batch)\n",
    "\n",
    "        if m % mbgd_size != 0:\n",
    "            batch_X = shuff_X[:, int(np.floor(m/mbgd_size))*mbgd_size:]\n",
    "            batch_Y = shuff_Y[:, int(np.floor(m/mbgd_size))*mbgd_size:]\n",
    "            \n",
    "            batch = (batch_X, batch_Y)\n",
    "            SS_data.append(batch)\n",
    "\n",
    "        return SS_data\n",
    "        \n",
    "    def fit(self, X_vert, Y_vert, print_cost = True):\n",
    "        \n",
    "        X, Y = X_vert.T, Y_vert.T\n",
    "        \n",
    "        if self.normalize:\n",
    "            X, self.__mean, self.__std = self.__normalize(X)\n",
    "        \n",
    "        m = X.shape[1]\n",
    "        costs = []\n",
    "        \n",
    "        self.__initialize_parameters()\n",
    "\n",
    "        for i in range(0, self.num_iter):\n",
    "            SS_data = self.__shuffle_and_separate(X, Y)\n",
    "            \n",
    "            for (batch_X, batch_Y) in SS_data:\n",
    "                A, caches = self.__forward_propagation(batch_X)\n",
    "\n",
    "                cost = self.compute_cost(A, batch_Y)\n",
    "\n",
    "                grads = self.__backward_propagation(A, batch_Y, caches)\n",
    "\n",
    "                self.__update_parameters(grads)\n",
    "            \n",
    "            costs.append(cost)\n",
    "\n",
    "            if print_cost and i % 100 == 0:\n",
    "                print(\"{}-th iteration: {}\".format(i, cost))\n",
    "\n",
    "            if i % 100 == 0:\n",
    "                costs.append(cost)\n",
    "\n",
    "        if print_cost:\n",
    "            plt.plot(costs)\n",
    "            plt.ylabel(\"Cost\")\n",
    "            plt.xlabel(\"Iteration, *100\")\n",
    "            plt.show()\n",
    "    \n",
    "    def predict_proba(self, X_vert):\n",
    "        X = X_vert.T\n",
    "        if self.normalize:\n",
    "            X, _, _ = self.__normalize(X, self.__mean, self.__std)\n",
    "        \n",
    "        probs = self.__forward_propagation(X)[0]\n",
    "        return probs.T\n",
    "    \n",
    "    def predict(self, X_vert):\n",
    "        positive_probs = self.predict_proba(X_vert)\n",
    "        return np.argmax(positive_probs, axis = 1)"
   ]
  },
  {
   "cell_type": "code",
   "execution_count": 22,
   "metadata": {},
   "outputs": [
    {
     "name": "stdout",
     "output_type": "stream",
     "text": [
      "Dataset: X=(150, 4), y=(150,)\n"
     ]
    }
   ],
   "source": [
    "iris = load_iris()\n",
    "X = iris.data\n",
    "Y = iris.target\n",
    "\n",
    "print('Dataset: X={}, y={}'.format(X.shape, Y.shape))"
   ]
  },
  {
   "cell_type": "code",
   "execution_count": 23,
   "metadata": {},
   "outputs": [
    {
     "data": {
      "image/png": "[encoded data removed]",
      "text/plain": [
       "<Figure size 432x288 with 1 Axes>"
      ]
     },
     "metadata": {
      "needs_background": "light"
     },
     "output_type": "display_data"
    }
   ],
   "source": [
    "plot_data(X, Y)"
   ]
  },
  {
   "cell_type": "code",
   "execution_count": 18,
   "metadata": {},
   "outputs": [],
   "source": [
    "cls = NeuralNet(mbgd_size = 1024, neurons_in_layers = [4, 15, 3], normalize = True, learning_rate = 0.1, num_iter = 2000)"
   ]
  },
  {
   "cell_type": "code",
   "execution_count": 24,
   "metadata": {},
   "outputs": [
    {
     "data": {
      "text/plain": [
       "((120, 4), (30, 4), (120,), (30,))"
      ]
     },
     "execution_count": 24,
     "metadata": {},
     "output_type": "execute_result"
    }
   ],
   "source": [
    "X_train, X_test, Y_train, Y_test = train_test_split(X, Y, test_size = 0.2, random_state=10)\n",
    "X_train.shape, X_test.shape, Y_train.shape, Y_test.shape"
   ]
  },
  {
   "cell_type": "code",
   "execution_count": 25,
   "metadata": {},
   "outputs": [
    {
     "data": {
      "text/plain": [
       "array([[0., 1., 0.],\n",
       "       [0., 1., 0.],\n",
       "       [0., 0., 1.],\n",
       "       [0., 0., 1.],\n",
       "       [0., 0., 1.],\n",
       "       [1., 0., 0.],\n",
       "       [0., 0., 1.],\n",
       "       [0., 0., 1.],\n",
       "       [0., 0., 1.],\n",
       "       [0., 0., 1.],\n",
       "       [1., 0., 0.],\n",
       "       [1., 0., 0.],\n",
       "       [0., 1., 0.],\n",
       "       [1., 0., 0.],\n",
       "       [0., 1., 0.],\n",
       "       [1., 0., 0.],\n",
       "       [0., 1., 0.],\n",
       "       [0., 1., 0.],\n",
       "       [0., 0., 1.],\n",
       "       [0., 0., 1.],\n",
       "       [0., 1., 0.],\n",
       "       [0., 0., 1.],\n",
       "       [0., 1., 0.],\n",
       "       [0., 1., 0.],\n",
       "       [0., 1., 0.],\n",
       "       [1., 0., 0.],\n",
       "       [1., 0., 0.],\n",
       "       [0., 1., 0.],\n",
       "       [1., 0., 0.],\n",
       "       [0., 0., 1.],\n",
       "       [1., 0., 0.],\n",
       "       [1., 0., 0.],\n",
       "       [0., 0., 1.],\n",
       "       [0., 1., 0.],\n",
       "       [0., 0., 1.],\n",
       "       [1., 0., 0.],\n",
       "       [0., 0., 1.],\n",
       "       [1., 0., 0.],\n",
       "       [0., 1., 0.],\n",
       "       [0., 1., 0.],\n",
       "       [1., 0., 0.],\n",
       "       [0., 0., 1.],\n",
       "       [0., 0., 1.],\n",
       "       [0., 0., 1.],\n",
       "       [0., 0., 1.],\n",
       "       [0., 0., 1.],\n",
       "       [1., 0., 0.],\n",
       "       [0., 1., 0.],\n",
       "       [0., 0., 1.],\n",
       "       [0., 1., 0.],\n",
       "       [1., 0., 0.],\n",
       "       [0., 0., 1.],\n",
       "       [0., 1., 0.],\n",
       "       [0., 1., 0.],\n",
       "       [1., 0., 0.],\n",
       "       [1., 0., 0.],\n",
       "       [1., 0., 0.],\n",
       "       [0., 1., 0.],\n",
       "       [0., 0., 1.],\n",
       "       [0., 0., 1.],\n",
       "       [0., 1., 0.],\n",
       "       [1., 0., 0.],\n",
       "       [1., 0., 0.],\n",
       "       [1., 0., 0.],\n",
       "       [0., 0., 1.],\n",
       "       [0., 0., 1.],\n",
       "       [0., 1., 0.],\n",
       "       [0., 1., 0.],\n",
       "       [0., 0., 1.],\n",
       "       [0., 0., 1.],\n",
       "       [0., 0., 1.],\n",
       "       [0., 0., 1.],\n",
       "       [0., 1., 0.],\n",
       "       [1., 0., 0.],\n",
       "       [1., 0., 0.],\n",
       "       [0., 1., 0.],\n",
       "       [1., 0., 0.],\n",
       "       [1., 0., 0.],\n",
       "       [0., 0., 1.],\n",
       "       [0., 1., 0.],\n",
       "       [1., 0., 0.],\n",
       "       [1., 0., 0.],\n",
       "       [1., 0., 0.],\n",
       "       [0., 1., 0.],\n",
       "       [1., 0., 0.],\n",
       "       [0., 1., 0.],\n",
       "       [1., 0., 0.],\n",
       "       [0., 1., 0.],\n",
       "       [0., 0., 1.],\n",
       "       [1., 0., 0.],\n",
       "       [0., 1., 0.],\n",
       "       [0., 1., 0.],\n",
       "       [0., 0., 1.],\n",
       "       [1., 0., 0.],\n",
       "       [0., 0., 1.],\n",
       "       [1., 0., 0.],\n",
       "       [0., 1., 0.],\n",
       "       [0., 1., 0.],\n",
       "       [0., 0., 1.],\n",
       "       [0., 0., 1.],\n",
       "       [1., 0., 0.],\n",
       "       [0., 1., 0.],\n",
       "       [0., 0., 1.],\n",
       "       [0., 0., 1.],\n",
       "       [0., 1., 0.],\n",
       "       [0., 1., 0.],\n",
       "       [0., 0., 1.],\n",
       "       [1., 0., 0.],\n",
       "       [0., 0., 1.],\n",
       "       [1., 0., 0.],\n",
       "       [1., 0., 0.],\n",
       "       [0., 1., 0.],\n",
       "       [1., 0., 0.],\n",
       "       [0., 0., 1.],\n",
       "       [0., 0., 1.],\n",
       "       [0., 0., 1.],\n",
       "       [0., 1., 0.],\n",
       "       [1., 0., 0.],\n",
       "       [0., 0., 1.],\n",
       "       [1., 0., 0.]])"
      ]
     },
     "execution_count": 25,
     "metadata": {},
     "output_type": "execute_result"
    }
   ],
   "source": [
    "Y_train_transf = np.zeros([len(Y_train), 3])\n",
    "for i in range(0, len(Y_train)):\n",
    "    for j in range(0, 3):\n",
    "        if Y_train[i] == j:\n",
    "            Y_train_transf[i][j] = 1\n",
    "\n",
    "Y_train_transf"
   ]
  },
  {
   "cell_type": "code",
   "execution_count": 26,
   "metadata": {},
   "outputs": [
    {
     "name": "stdout",
     "output_type": "stream",
     "text": [
      "0-th iteration: 0.3679088687710862\n",
      "100-th iteration: 0.266303408641202\n",
      "200-th iteration: 0.1847608231443175\n",
      "300-th iteration: 0.14606443310530265\n",
      "400-th iteration: 0.12513687096487497\n",
      "500-th iteration: 0.11078770643336089\n",
      "600-th iteration: 0.09993673324407992\n",
      "700-th iteration: 0.09124969524530967\n",
      "800-th iteration: 0.08403562484605548\n",
      "900-th iteration: 0.077856379551497\n",
      "1000-th iteration: 0.07235156057484698\n",
      "1100-th iteration: 0.06704380042496029\n",
      "1200-th iteration: 0.060332980211361034\n",
      "1300-th iteration: 0.05168260768152156\n",
      "1400-th iteration: 0.047905905493373514\n",
      "1500-th iteration: 0.04508825132151028\n",
      "1600-th iteration: 0.04273591807255739\n",
      "1700-th iteration: 0.04071077591261253\n",
      "1800-th iteration: 0.038934659094807055\n",
      "1900-th iteration: 0.037356465449877294\n"
     ]
    },
    {
     "data": {
      "image/png": "[encoded data removed]",
      "text/plain": [
       "<Figure size 432x288 with 1 Axes>"
      ]
     },
     "metadata": {
      "needs_background": "light"
     },
     "output_type": "display_data"
    }
   ],
   "source": [
    "cls.fit(X_train, Y_train_transf)"
   ]
  },
  {
   "cell_type": "code",
   "execution_count": 27,
   "metadata": {},
   "outputs": [
    {
     "name": "stdout",
     "output_type": "stream",
     "text": [
      "{'W1': array([[ 0.2350514 ,  0.00782539, -0.52434073, -0.39226269],\n",
      "       [ 1.64080969, -1.54303437,  1.83076624,  3.86076563],\n",
      "       [ 0.35912776,  0.43161083,  0.82880035,  0.51080672],\n",
      "       [ 1.01415849, -0.19309755, -0.48500958, -1.06210664],\n",
      "       [ 0.41573979, -0.46756533, -0.12082119, -0.08335501],\n",
      "       [-0.13183658,  0.10848376,  0.50277856,  1.04218769],\n",
      "       [-0.01476238, -1.13976161, -0.53299581,  0.18070149],\n",
      "       [-0.50717217,  0.39357106, -0.71432849, -0.0299144 ],\n",
      "       [-0.5243654 , -0.83364446, -0.47529627,  0.34117827],\n",
      "       [-0.20666805, -0.14357131,  0.05703371, -0.21219983],\n",
      "       [ 0.93190787,  0.0306711 ,  0.63895203,  0.02679842],\n",
      "       [ 0.15699604,  0.21068229, -0.22783332,  0.0989052 ],\n",
      "       [-0.13250322,  0.09957882, -0.33214773, -1.23598474],\n",
      "       [ 2.13161934, -1.48502062,  0.00425693,  0.39837014],\n",
      "       [-1.69218524,  0.36509119, -0.73380894, -2.7726934 ]]), 'b1': array([[ 0.02741012],\n",
      "       [-0.4881059 ],\n",
      "       [-0.03457251],\n",
      "       [-0.09539503],\n",
      "       [ 0.34768184],\n",
      "       [ 0.35769011],\n",
      "       [ 0.78319528],\n",
      "       [ 0.07146976],\n",
      "       [ 0.6788919 ],\n",
      "       [ 0.1233554 ],\n",
      "       [ 0.10165078],\n",
      "       [ 0.04891227],\n",
      "       [ 0.1235157 ],\n",
      "       [ 1.54292999],\n",
      "       [ 0.87134629]]), 'W2': array([[-0.20000327, -1.92027227, -0.35558125,  0.45978595, -0.28598587,\n",
      "        -0.75006187, -0.49565511,  0.44528999, -0.78155475, -0.54264663,\n",
      "        -0.33958822, -0.52304208,  0.67776089, -1.11705059,  4.14639698],\n",
      "       [ 0.26397081, -2.14980728, -0.2092143 , -0.05423154,  0.66936393,\n",
      "         0.74606685,  1.2828253 ,  0.1869263 ,  0.83581564,  0.41224229,\n",
      "         0.35189925,  0.09072926,  0.45485755,  1.78568572, -2.77314751],\n",
      "       [-0.06707098,  4.40274459, -0.17568068, -0.35661481, -0.63583791,\n",
      "        -0.04865545, -0.58570392, -0.22458762, -0.77869745, -0.24420249,\n",
      "        -0.47356081, -0.1930193 , -0.06334253, -0.67532063, -1.94501985]]), 'b2': array([[-0.8506694 ],\n",
      "       [ 1.67261419],\n",
      "       [-0.82194478]])}\n"
     ]
    }
   ],
   "source": [
    "print(cls.parameters)"
   ]
  },
  {
   "cell_type": "code",
   "execution_count": 28,
   "metadata": {},
   "outputs": [
    {
     "data": {
      "text/plain": [
       "array([[0.00848923, 0.95887088, 0.03263989],\n",
       "       [0.01097121, 0.95426835, 0.03476044],\n",
       "       [0.01135226, 0.38032329, 0.60832445],\n",
       "       [0.001764  , 0.0177211 , 0.9805149 ],\n",
       "       [0.00266382, 0.03357584, 0.96376034],\n",
       "       [0.98530975, 0.01236322, 0.00232703],\n",
       "       [0.00259298, 0.02922001, 0.96818701],\n",
       "       [0.00185636, 0.01906475, 0.97907889],\n",
       "       [0.00178328, 0.0180804 , 0.98013632],\n",
       "       [0.00187449, 0.01943617, 0.97868934],\n",
       "       [0.98463242, 0.01295158, 0.002416  ],\n",
       "       [0.9837783 , 0.01369389, 0.00252781],\n",
       "       [0.0211372 , 0.93686699, 0.04199581],\n",
       "       [0.92506857, 0.06745093, 0.0074805 ],\n",
       "       [0.03148134, 0.84230208, 0.12621658],\n",
       "       [0.9853372 , 0.01233877, 0.00232403],\n",
       "       [0.01368768, 0.833742  , 0.15257032],\n",
       "       [0.02282122, 0.4570278 , 0.52015097],\n",
       "       [0.00253163, 0.02929303, 0.96817533],\n",
       "       [0.00179142, 0.01801495, 0.98019363],\n",
       "       [0.01284451, 0.58507394, 0.40208155],\n",
       "       [0.00203491, 0.0208515 , 0.97711359],\n",
       "       [0.0084929 , 0.97888007, 0.01262703],\n",
       "       [0.0172082 , 0.76950994, 0.21328186],\n",
       "       [0.02263838, 0.88118737, 0.09617425],\n",
       "       [0.9842657 , 0.01326893, 0.00246537],\n",
       "       [0.98497248, 0.01265544, 0.00237208],\n",
       "       [0.01476639, 0.88163471, 0.10359891],\n",
       "       [0.98440764, 0.01314698, 0.00244538],\n",
       "       [0.00513684, 0.07939234, 0.91547082],\n",
       "       [0.98524021, 0.01242372, 0.00233606],\n",
       "       [0.98524162, 0.01242292, 0.00233547],\n",
       "       [0.01543887, 0.36660362, 0.61795752],\n",
       "       [0.01919399, 0.96421258, 0.01659343],\n",
       "       [0.00177726, 0.01792765, 0.98029508],\n",
       "       [0.98537217, 0.01230853, 0.0023193 ],\n",
       "       [0.00217397, 0.02424189, 0.97358414],\n",
       "       [0.98456894, 0.01301174, 0.00241932],\n",
       "       [0.01027612, 0.96873977, 0.02098411],\n",
       "       [0.0090231 , 0.22163061, 0.76934629],\n",
       "       [0.98540031, 0.01228443, 0.00231526],\n",
       "       [0.00184421, 0.01885326, 0.97930253],\n",
       "       [0.02199036, 0.33906056, 0.63894908],\n",
       "       [0.00411348, 0.06235023, 0.93353629],\n",
       "       [0.00201686, 0.02185781, 0.97612533],\n",
       "       [0.01376863, 0.57967833, 0.40655303],\n",
       "       [0.9853029 , 0.01236882, 0.00232828],\n",
       "       [0.00996984, 0.97722631, 0.01280385],\n",
       "       [0.00315658, 0.04394438, 0.95289904],\n",
       "       [0.01554486, 0.94865722, 0.03579792],\n",
       "       [0.98493013, 0.01269439, 0.00237548],\n",
       "       [0.0019483 , 0.02066453, 0.97738717],\n",
       "       [0.01195861, 0.94196275, 0.04607864],\n",
       "       [0.02225335, 0.94118051, 0.03656614],\n",
       "       [0.98522652, 0.01243496, 0.00233852],\n",
       "       [0.98424767, 0.01328442, 0.00246791],\n",
       "       [0.98480608, 0.01279967, 0.00239425],\n",
       "       [0.03799108, 0.89126606, 0.07074285],\n",
       "       [0.00288895, 0.03826723, 0.95884381],\n",
       "       [0.00349715, 0.0492533 , 0.94724955],\n",
       "       [0.01093496, 0.93318072, 0.05588432],\n",
       "       [0.98512065, 0.01252715, 0.00235221],\n",
       "       [0.98521767, 0.01244254, 0.00233979],\n",
       "       [0.98488063, 0.01273546, 0.0023839 ],\n",
       "       [0.00186462, 0.01925613, 0.97887925],\n",
       "       [0.00264255, 0.03212766, 0.96522979],\n",
       "       [0.00977989, 0.95893826, 0.03128185],\n",
       "       [0.00863972, 0.97560279, 0.01575748],\n",
       "       [0.00334407, 0.04197558, 0.95468035],\n",
       "       [0.00246442, 0.02910887, 0.96842672],\n",
       "       [0.00631672, 0.10016328, 0.89352001],\n",
       "       [0.01354939, 0.61894436, 0.36750625],\n",
       "       [0.00918933, 0.95983388, 0.0309768 ],\n",
       "       [0.98487045, 0.01274457, 0.00238498],\n",
       "       [0.98527676, 0.01239152, 0.00233172],\n",
       "       [0.01404458, 0.94590912, 0.0400463 ],\n",
       "       [0.98347421, 0.01396152, 0.00256427],\n",
       "       [0.9854249 , 0.01226275, 0.00231235],\n",
       "       [0.00591296, 0.09736938, 0.89671765],\n",
       "       [0.01359873, 0.97220325, 0.01419802],\n",
       "       [0.98358568, 0.01386019, 0.00255412],\n",
       "       [0.98495843, 0.0126679 , 0.00237368],\n",
       "       [0.98436401, 0.0131845 , 0.0024515 ],\n",
       "       [0.02253689, 0.96099604, 0.01646708],\n",
       "       [0.98319359, 0.01420411, 0.00260229],\n",
       "       [0.01187193, 0.93941521, 0.04871286],\n",
       "       [0.98511006, 0.01253809, 0.00235184],\n",
       "       [0.01173235, 0.94627891, 0.04198874],\n",
       "       [0.01108838, 0.36727914, 0.62163248],\n",
       "       [0.98505414, 0.01258629, 0.00235957],\n",
       "       [0.01480921, 0.84073763, 0.14445316],\n",
       "       [0.00884936, 0.96924955, 0.02190109],\n",
       "       [0.00337324, 0.03858227, 0.95804449],\n",
       "       [0.98447479, 0.01309341, 0.0024318 ],\n",
       "       [0.00672748, 0.11329719, 0.87997532],\n",
       "       [0.98541735, 0.01226997, 0.00231268],\n",
       "       [0.00887377, 0.97527303, 0.0158532 ],\n",
       "       [0.00883594, 0.21670085, 0.77446321],\n",
       "       [0.00184361, 0.01903035, 0.97912604],\n",
       "       [0.00235152, 0.02497192, 0.97267656],\n",
       "       [0.98499294, 0.01263736, 0.0023697 ],\n",
       "       [0.00543114, 0.98372025, 0.01084861],\n",
       "       [0.00224056, 0.02575912, 0.97200032],\n",
       "       [0.00367416, 0.05565911, 0.94066674],\n",
       "       [0.04725549, 0.91549848, 0.03724603],\n",
       "       [0.01312587, 0.75854986, 0.22832426],\n",
       "       [0.00183732, 0.01854394, 0.97961874],\n",
       "       [0.9843018 , 0.01323746, 0.00246074],\n",
       "       [0.00195241, 0.02021943, 0.97782816],\n",
       "       [0.98502358, 0.01261129, 0.00236514],\n",
       "       [0.98508689, 0.01255631, 0.0023568 ],\n",
       "       [0.00956405, 0.96367529, 0.02676066],\n",
       "       [0.98516908, 0.0124877 , 0.00234322],\n",
       "       [0.00183666, 0.01886801, 0.97929534],\n",
       "       [0.00398971, 0.06237034, 0.93363995],\n",
       "       [0.00211939, 0.02333949, 0.97454112],\n",
       "       [0.02803828, 0.94188722, 0.0300745 ],\n",
       "       [0.98378964, 0.01368131, 0.00252905],\n",
       "       [0.00486798, 0.08058204, 0.91454998],\n",
       "       [0.98512451, 0.01252478, 0.00235071]])"
      ]
     },
     "execution_count": 28,
     "metadata": {},
     "output_type": "execute_result"
    }
   ],
   "source": [
    "Y_prob = cls.predict_proba(X_train)\n",
    "Y_prob"
   ]
  },
  {
   "cell_type": "code",
   "execution_count": 29,
   "metadata": {},
   "outputs": [
    {
     "data": {
      "text/plain": [
       "array([1, 1, 2, 2, 2, 0, 2, 2, 2, 2, 0, 0, 1, 0, 1, 0, 1, 2, 2, 2, 1, 2,\n",
       "       1, 1, 1, 0, 0, 1, 0, 2, 0, 0, 2, 1, 2, 0, 2, 0, 1, 2, 0, 2, 2, 2,\n",
       "       2, 1, 0, 1, 2, 1, 0, 2, 1, 1, 0, 0, 0, 1, 2, 2, 1, 0, 0, 0, 2, 2,\n",
       "       1, 1, 2, 2, 2, 1, 1, 0, 0, 1, 0, 0, 2, 1, 0, 0, 0, 1, 0, 1, 0, 1,\n",
       "       2, 0, 1, 1, 2, 0, 2, 0, 1, 2, 2, 2, 0, 1, 2, 2, 1, 1, 2, 0, 2, 0,\n",
       "       0, 1, 0, 2, 2, 2, 1, 0, 2, 0], dtype=int64)"
      ]
     },
     "execution_count": 29,
     "metadata": {},
     "output_type": "execute_result"
    }
   ],
   "source": [
    "Y_train_hat = cls.predict(X_train)\n",
    "Y_train_hat"
   ]
  },
  {
   "cell_type": "code",
   "execution_count": 33,
   "metadata": {},
   "outputs": [
    {
     "data": {
      "text/plain": [
       "1.0"
      ]
     },
     "execution_count": 33,
     "metadata": {},
     "output_type": "execute_result"
    }
   ],
   "source": [
    "accuracy_score(Y_test, Y_test_hat)"
   ]
  },
  {
   "cell_type": "code",
   "execution_count": 31,
   "metadata": {},
   "outputs": [
    {
     "data": {
      "text/plain": [
       "array([1, 2, 0, 1, 0, 1, 1, 1, 0, 1, 1, 2, 1, 0, 0, 2, 1, 0, 0, 0, 2, 2,\n",
       "       2, 0, 1, 0, 1, 1, 1, 2], dtype=int64)"
      ]
     },
     "execution_count": 31,
     "metadata": {},
     "output_type": "execute_result"
    }
   ],
   "source": [
    "Y_test_hat = cls.predict(X_test)\n",
    "Y_test_hat\n"
   ]
  },
  {
   "cell_type": "code",
   "execution_count": 32,
   "metadata": {},
   "outputs": [
    {
     "data": {
      "text/plain": [
       "1.0"
      ]
     },
     "execution_count": 32,
     "metadata": {},
     "output_type": "execute_result"
    }
   ],
   "source": [
    "accuracy_score(Y_test, Y_test_hat)"
   ]
  },
  {
   "cell_type": "code",
   "execution_count": null,
   "metadata": {},
   "outputs": [],
   "source": []
  }
 ],
 "metadata": {
  "kernelspec": {
   "display_name": "Python 3",
   "language": "python",
   "name": "python3"
  },
  "language_info": {
   "codemirror_mode": {
    "name": "ipython",
    "version": 3
   },
   "file_extension": ".py",
   "mimetype": "text/x-python",
   "name": "python",
   "nbconvert_exporter": "python",
   "pygments_lexer": "ipython3",
   "version": "3.7.6"
  }
 },
 "nbformat": 4,
 "nbformat_minor": 4
}
