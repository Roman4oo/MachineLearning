{
 "cells": [
  {
   "cell_type": "code",
   "execution_count": 22,
   "metadata": {},
   "outputs": [],
   "source": [
    "import numpy as np\n",
    "import pandas as pd\n",
    "from sklearn.model_selection import train_test_split\n",
    "from mpl_toolkits.mplot3d import Axes3D\n",
    "import matplotlib.pyplot as plt\n",
    "\n",
    "from matplotlib.colors import ListedColormap\n",
    "cm_bright = ListedColormap(['#FF0000', '#0000FF'])\n",
    "%matplotlib inline\n",
    "from sklearn.metrics import accuracy_score\n",
    "\n",
    "import sklearn.linear_model"
   ]
  },
  {
   "cell_type": "code",
   "execution_count": 18,
   "metadata": {},
   "outputs": [],
   "source": [
    "def plot_surface(cls, x_1, x_2, ax=None, threshold=0.5, contourf=False):\n",
    "    xx1, xx2 = np.meshgrid(np.linspace(x_1.min(), x_1.max(), 100), \n",
    "                           np.linspace(x_2.min(), x_2.max(), 100))\n",
    "\n",
    "    X_pred = np.c_[xx1.ravel(), xx2.ravel()]\n",
    "    pred = cls.predict_proba(X_pred)[:, 0]\n",
    "    Z = pred.reshape((100, 100))\n",
    "    if ax is None:\n",
    "        ax = plt.gca()\n",
    "    ax.contour(xx1, xx2, Z, levels=[threshold], colors='black')\n",
    "    ax.set_xlim((x_1.min(), x_1.max()))\n",
    "    ax.set_ylim((x_2.min(), x_2.max()))"
   ]
  },
  {
   "cell_type": "code",
   "execution_count": 19,
   "metadata": {},
   "outputs": [],
   "source": [
    "def plot_data(X, y):\n",
    "    ax = plt.gca()\n",
    "    ax.scatter(X[:,0], X[:,1], c=(y == 1), cmap=cm_bright)"
   ]
  },
  {
   "cell_type": "code",
   "execution_count": 20,
   "metadata": {},
   "outputs": [],
   "source": [
    "class NeuralNet:\n",
    "    \"\"\"\n",
    "    NN for binary classification\n",
    "    Attributes:\n",
    "    ...\n",
    "    \"\"\"\n",
    "    def __init__(self, accuracy, hidden_layer_sizes, normalize = True, learning_rate = 0.01, num_iter = 30000):\n",
    "        self.learning_rate = learning_rate\n",
    "        self.num_iter = num_iter\n",
    "        self.normalize = normalize\n",
    "        self.accuracy = accuracy\n",
    "        self.hidden_layer_sizes = hidden_layer_sizes\n",
    "        self.n_layers = len(hidden_layer_sizes) + 1\n",
    "    \n",
    "    def __normalize(self, X, mean = None, std = None):\n",
    "        \"\"\"\n",
    "        Зверніть увагу, що нормалізація вхідних даних є дуже важливою для швидкодії нейронних мереж.\n",
    "        \"\"\"\n",
    "        n = X.shape[0]\n",
    "        m = mean\n",
    "        if m is None:\n",
    "            m = np.mean(X, axis=1).reshape((n, 1))\n",
    "        s = std\n",
    "        if s is None:\n",
    "            s = np.std(X, axis=1).reshape((n, 1))\n",
    "        X_new = (X - m) / s**2\n",
    "        return X_new, m, s\n",
    "\n",
    "    def __sigmoid(self, Z):\n",
    "        \"\"\"\n",
    "        В наступних практичних потрібно буде додати підтримку й інших активаційних функцій - це один з гіперпараметрів. \n",
    "        Їх можна вибирати для всіх шарів одночасно або мати різні активаційні функції на кожному з них.\n",
    "        \"\"\"\n",
    "        return 1 / (1 + np.exp(-Z))\n",
    "    \n",
    "    def __initialize_parameters(self, n_x):\n",
    "        W = list()\n",
    "        b = list()\n",
    "        \n",
    "        h = list(self.hidden_layer_sizes)\n",
    "        h.insert(0, n_x)\n",
    "        h.append(1)\n",
    "        hidden_layers = tuple(h)\n",
    "        \n",
    "        for i in range(1, self.n_layers+1):\n",
    "            W.append(np.random.randn(hidden_layers[i], hidden_layers[i-1]) * 0.01)\n",
    "            b.append(np.zeros((hidden_layers[i], 1)))\n",
    "\n",
    "        self.parameters = {\"W\" : W, \"b\" : b}\n",
    "                    \n",
    "    def __forward_propagation(self, X):\n",
    "        W = self.parameters[\"W\"]\n",
    "        b = self.parameters[\"b\"]\n",
    "\n",
    "        A = []\n",
    "        Z = []\n",
    "        \n",
    "        for i in range(0, self.n_layers):\n",
    "            if i == 0:\n",
    "                Z.append(np.dot(W[i], X) + b[i])\n",
    "            else:\n",
    "                Z.append(np.dot(W[i], A[i-1]) + b[i])\n",
    "            A.append(self.__sigmoid(Z[i]))\n",
    "                       \n",
    "        cache = (W, b, Z, A)\n",
    "\n",
    "        return A[-1], cache\n",
    "    \n",
    "    def compute_cost(self, A, Y):\n",
    "        m = Y.shape[1]\n",
    "        res = Y * np.log(A) + (1 - Y) * np.log(1 - A)\n",
    "        J = -(1 / m) * np.sum(res)\n",
    "        return J\n",
    "        \n",
    "    def __backward_propagation(self, X, Y, cache):\n",
    "        m = X.shape[1]\n",
    "        n = X.shape[0]\n",
    "        (W, b, Z, A) = cache\n",
    "        \n",
    "        dW = [None] * (self.n_layers)\n",
    "        dA = [None] * (self.n_layers)\n",
    "        dZ = [None] * (self.n_layers)\n",
    "        db = [None] * (self.n_layers)\n",
    "        \n",
    "        dZ[-1] = (A[-1] - Y)\n",
    "        dW[-1] = (1. / m * np.dot(dZ[-1], A[-2].T))\n",
    "        db[-1] = (1. / m * np.sum(dZ[-1], axis = 1, keepdims = True))\n",
    "        \n",
    "        for i in range(self.n_layers-1, 0, -1):\n",
    "            dA[i-1] = np.dot(W[i].T, dZ[i])\n",
    "            dZ[i-1] = np.multiply(dA[i-1], np.multiply(A[i-1], 1 - A[i-1]))\n",
    "            if i-1 == 0:\n",
    "                dW[i-1] = 1. / m * np.dot(dZ[i-1], X.T)\n",
    "            else:\n",
    "                dW[i-1] = 1. / m * np.dot(dZ[i-1], A[i-2].T)\n",
    "            db[i-1] = 1. / m * np.sum(dZ[i-1], axis = 1, keepdims = True)        \n",
    "        \n",
    "        grads = {\"dZ\" : dZ, \"dW\" : dW, \"db\" : db}\n",
    "        return grads\n",
    "    \n",
    "    def __update_parameters(self, grads):\n",
    "        W = self.parameters[\"W\"]\n",
    "        b = self.parameters[\"b\"]\n",
    "\n",
    "        dW = grads[\"dW\"]\n",
    "        db = grads[\"db\"]\n",
    "        \n",
    "        for i in range(self.n_layers):\n",
    "            W[i] = W[i] - self.learning_rate * dW[i]\n",
    "            b[i] = b[i] - self.learning_rate * db[i]\n",
    "\n",
    "        \n",
    "    def fit(self, X_vert, Y_vert, print_cost = True):\n",
    "        self.n_iter = 0\n",
    "        X, Y = X_vert.T, Y_vert.T\n",
    "        \n",
    "        if self.normalize:\n",
    "            X, self.__mean, self.__std = self.__normalize(X)\n",
    "        \n",
    "        costs = []\n",
    "        \n",
    "        m = X.shape[1]\n",
    "        n_x = X.shape[0]\n",
    "        \n",
    "        self.__initialize_parameters(n_x)\n",
    "\n",
    "        for i in range(self.num_iter):\n",
    "            self.n_iter = i\n",
    "            A, cache = self.__forward_propagation(X)\n",
    "\n",
    "            cost = self.compute_cost(A, Y)\n",
    "            costs.append(cost)\n",
    "\n",
    "            grads = self.__backward_propagation(X, Y, cache)\n",
    "\n",
    "            self.__update_parameters(grads)\n",
    "            \n",
    "            if print_cost and i % 1000 == 0:\n",
    "                print(\"{}-th iteration: {}\".format(i, cost))\n",
    "                \n",
    "            if i > 1 and abs(cost-costs[-2]) < self.accuracy:\n",
    "                break\n",
    "\n",
    "        if print_cost:\n",
    "            plt.plot(costs)\n",
    "            plt.ylabel(\"Cost\")\n",
    "            plt.xlabel(\"Iteration, *1000\")\n",
    "            plt.show()\n",
    "    \n",
    "    def predict_proba(self, X_vert):\n",
    "        X = X_vert.T\n",
    "        if self.normalize:\n",
    "            X, _, _ = self.__normalize(X, self.__mean, self.__std)\n",
    "        \n",
    "        probs = self.__forward_propagation(X)[0]\n",
    "        \n",
    "        return np.column_stack((probs.T, 1 - probs.T))\n",
    "    \n",
    "    def predict(self, X_vert):\n",
    "        positive_probs = self.predict_proba(X_vert)[:, 0]\n",
    "        return (positive_probs >= 0.5).astype(int)"
   ]
  },
  {
   "cell_type": "code",
   "execution_count": 24,
   "metadata": {},
   "outputs": [],
   "source": [
    "#data_columns = [\"exam1\", \"exam2\"]\n",
    "#target_column = \"submitted\"\n",
    "#df = pd.read_csv(\"sats.csv\")\n",
    "#X, Y = df[data_columns].values, df[target_column].reshape((df.shape[0], 1))\n",
    "#print('Training set: X={}, y={}'.format(X.shape, Y.shape))"
   ]
  },
  {
   "cell_type": "code",
   "execution_count": 26,
   "metadata": {},
   "outputs": [
    {
     "name": "stdout",
     "output_type": "stream",
     "text": [
      "Training set: X=(118, 2), y=(118,)\n"
     ]
    }
   ],
   "source": [
    "data_columns = [\"test1\", \"test2\"]\n",
    "target_column = \"passed\"\n",
    "df = pd.read_csv(\"tests.csv\")\n",
    "X, Y = df[data_columns].values, df[target_column]\n",
    "print('Training set: X={}, y={}'.format(X.shape, Y.shape))"
   ]
  },
  {
   "cell_type": "code",
   "execution_count": 27,
   "metadata": {},
   "outputs": [
    {
     "data": {
      "image/png": "[encoded data removed]",
      "text/plain": [
       "<Figure size 432x288 with 1 Axes>"
      ]
     },
     "metadata": {
      "needs_background": "light"
     },
     "output_type": "display_data"
    }
   ],
   "source": [
    "plot_data(X, Y)"
   ]
  },
  {
   "cell_type": "code",
   "execution_count": 28,
   "metadata": {},
   "outputs": [],
   "source": [
    "cls = NeuralNet(\n",
    "    accuracy=1e-12,\n",
    "    hidden_layer_sizes=(20,15), \n",
    "    normalize = True, \n",
    "    learning_rate = 0.52, \n",
    "    num_iter = 14001)"
   ]
  },
  {
   "cell_type": "code",
   "execution_count": 35,
   "metadata": {},
   "outputs": [
    {
     "name": "stdout",
     "output_type": "stream",
     "text": [
      "0-th iteration: 0.6931831474626252\n",
      "1000-th iteration: 0.6930032370982545\n",
      "2000-th iteration: 0.6930030519541059\n",
      "3000-th iteration: 0.6930027677754678\n",
      "4000-th iteration: 0.6930022872403552\n",
      "5000-th iteration: 0.6930013867465776\n",
      "6000-th iteration: 0.692999466026526\n",
      "7000-th iteration: 0.6929945288350906\n",
      "8000-th iteration: 0.6929772994949746\n",
      "9000-th iteration: 0.69286799710603\n",
      "10000-th iteration: 0.6908140430825697\n",
      "11000-th iteration: 0.6604252085502784\n",
      "12000-th iteration: 0.5799746834389575\n",
      "13000-th iteration: 0.50723810174788\n",
      "14000-th iteration: 0.35088292413698824\n"
     ]
    },
    {
     "data": {
      "image/png": "[encoded data removed]",
      "text/plain": [
       "<Figure size 432x288 with 1 Axes>"
      ]
     },
     "metadata": {
      "needs_background": "light"
     },
     "output_type": "display_data"
    }
   ],
   "source": [
    "cls.fit(X, Y.values.reshape((df.shape[0], 1)))"
   ]
  },
  {
   "cell_type": "code",
   "execution_count": 36,
   "metadata": {},
   "outputs": [
    {
     "name": "stdout",
     "output_type": "stream",
     "text": [
      "{'W': [array([[-1.0388775 ,  1.35175022],\n",
      "       [-0.46145909, -0.48572239],\n",
      "       [-0.31580909, -0.39370245],\n",
      "       [-0.01817352, -0.67323538],\n",
      "       [-0.3235627 , -0.39638734],\n",
      "       [ 1.00661651,  0.71013528],\n",
      "       [-0.46174588, -0.48097027],\n",
      "       [ 1.94253784,  0.38021421],\n",
      "       [ 0.43509027, -1.98961277],\n",
      "       [-0.74500026, -0.64943707],\n",
      "       [ 0.04939896, -0.71838478],\n",
      "       [ 0.03089183, -0.70310645],\n",
      "       [-0.51827347, -0.51922986],\n",
      "       [ 0.00830004, -0.70313268],\n",
      "       [ 1.543154  ,  0.22885387],\n",
      "       [-0.16572736, -0.54374269],\n",
      "       [-0.40438394,  0.01870859],\n",
      "       [-0.19497352,  0.11814995],\n",
      "       [ 1.28412478,  0.06662752],\n",
      "       [-1.15920451, -1.49727382]]), array([[-1.06701337e+00, -1.15291645e+00, -9.77446995e-01,\n",
      "        -6.84118641e-01, -9.92366838e-01,  1.83631957e+00,\n",
      "        -1.13247720e+00,  6.78130954e-01, -8.61780612e-01,\n",
      "        -1.25617775e+00, -6.30410010e-01, -5.32533306e-01,\n",
      "        -1.16057870e+00, -6.56292978e-01,  5.27181761e-01,\n",
      "        -7.96318179e-01, -1.41621862e-01,  4.41695748e-02,\n",
      "         4.84455192e-01, -1.33298158e+00],\n",
      "       [ 1.06251975e+00, -6.97624919e-02, -1.76472019e-01,\n",
      "        -3.38142406e-01, -1.75477546e-01, -3.28953464e-01,\n",
      "        -5.70942999e-02,  2.78794064e-01,  8.59648828e-01,\n",
      "         6.49377505e-02, -3.38464537e-01, -3.42499785e-01,\n",
      "        -3.29128517e-02, -3.62375376e-01,  3.94445386e-01,\n",
      "        -2.89039964e-01, -2.53114665e-01, -2.52843767e-01,\n",
      "         4.10363813e-01,  3.38006107e-01],\n",
      "       [-1.17870603e+00,  3.82087978e-04,  9.26997861e-02,\n",
      "         2.71634799e-01,  1.16272835e-01,  4.08618198e-01,\n",
      "        -5.90085931e-03, -2.10862615e-01, -8.25635442e-01,\n",
      "        -1.00083757e-01,  2.86305392e-01,  2.58239495e-01,\n",
      "        -2.50295073e-02,  2.49967396e-01, -3.40118377e-01,\n",
      "         2.25197817e-01,  1.78583194e-01,  1.99386372e-01,\n",
      "        -3.36443253e-01, -4.24956568e-01],\n",
      "       [-1.46194096e+00,  6.75803425e-02,  2.34580650e-01,\n",
      "         3.97888058e-01,  2.06396973e-01,  4.89752256e-01,\n",
      "         6.97775957e-02, -2.90948083e-01, -1.02306586e+00,\n",
      "        -1.05454853e-01,  4.44507935e-01,  4.06143376e-01,\n",
      "         3.48164611e-02,  4.47893155e-01, -4.68921058e-01,\n",
      "         3.60992251e-01,  3.04399650e-01,  3.26401035e-01,\n",
      "        -4.57217124e-01, -5.16673616e-01],\n",
      "       [-1.35664136e+00,  2.81094099e-02,  1.62227936e-01,\n",
      "         3.35423619e-01,  1.59021688e-01,  4.91618357e-01,\n",
      "         2.07493719e-02, -2.29036073e-01, -9.18179410e-01,\n",
      "        -1.01543702e-01,  3.53863264e-01,  3.27166235e-01,\n",
      "        -7.52849235e-03,  3.42895934e-01, -3.81893329e-01,\n",
      "         2.86394580e-01,  2.41665857e-01,  2.46539842e-01,\n",
      "        -3.96555486e-01, -4.67502222e-01],\n",
      "       [ 1.42912447e+00, -3.38009369e-01, -5.12977306e-01,\n",
      "        -7.31730329e-01, -4.98449294e-01, -7.67781552e-02,\n",
      "        -3.31307865e-01,  1.07959072e+00,  1.70926299e+00,\n",
      "        -1.27739858e-01, -7.52499199e-01, -7.30451418e-01,\n",
      "        -2.78200272e-01, -7.51859449e-01,  1.18186371e+00,\n",
      "        -6.48557951e-01, -6.52596217e-01, -4.97479614e-01,\n",
      "         1.18331905e+00,  5.32513355e-01],\n",
      "       [-1.39833036e+00,  7.70609900e-02,  2.27794085e-01,\n",
      "         3.83962756e-01,  2.08938512e-01,  4.65653118e-01,\n",
      "         5.12905881e-02, -3.04277848e-01, -9.93659307e-01,\n",
      "        -1.04802670e-01,  4.13647086e-01,  4.00139198e-01,\n",
      "         2.97651789e-02,  3.87197090e-01, -4.47170885e-01,\n",
      "         3.44582357e-01,  2.93208659e-01,  3.11579900e-01,\n",
      "        -4.65412612e-01, -5.08337038e-01],\n",
      "       [-1.02624137e+00, -3.06478863e-02,  6.40931424e-02,\n",
      "         1.64915552e-01,  6.05672828e-02,  3.24556487e-01,\n",
      "        -1.30825223e-02, -1.75936974e-01, -7.09478234e-01,\n",
      "        -1.10270253e-01,  1.99371384e-01,  1.80440200e-01,\n",
      "        -4.63311031e-02,  1.75922283e-01, -3.00203675e-01,\n",
      "         1.47993583e-01,  1.24525027e-01,  1.61372531e-01,\n",
      "        -3.25600338e-01, -3.39553268e-01],\n",
      "       [-1.29846984e+00,  9.25338531e-03,  1.41724084e-01,\n",
      "         3.01755793e-01,  1.40539164e-01,  4.43766837e-01,\n",
      "         1.04013750e-02, -2.10131660e-01, -8.65517085e-01,\n",
      "        -1.23300291e-01,  3.18312507e-01,  2.97251792e-01,\n",
      "        -1.03724698e-02,  3.07407959e-01, -3.71870135e-01,\n",
      "         2.69900554e-01,  2.30895257e-01,  2.17644517e-01,\n",
      "        -3.66376577e-01, -4.41619557e-01],\n",
      "       [-1.23773660e+00, -9.81698760e-01, -8.36924236e-01,\n",
      "        -5.14335040e-01, -8.53051934e-01,  1.68250687e+00,\n",
      "        -9.76032089e-01,  6.65313949e-01, -6.92517847e-01,\n",
      "        -1.07490913e+00, -4.77901360e-01, -3.99848459e-01,\n",
      "        -9.96576023e-01, -4.97984722e-01,  4.66635954e-01,\n",
      "        -6.49167769e-01, -1.41176756e-01,  4.75545130e-02,\n",
      "         4.46269191e-01, -1.16723159e+00],\n",
      "       [-7.24492268e-01, -6.60979963e-02,  3.40747926e-03,\n",
      "         7.41157906e-02, -1.68283911e-02,  1.91566339e-01,\n",
      "        -4.44572954e-02, -1.61328861e-01, -5.68360967e-01,\n",
      "        -1.14912419e-01,  7.89895651e-02,  8.16152966e-02,\n",
      "        -9.02086680e-02,  6.70004656e-02, -2.31255938e-01,\n",
      "         5.65743756e-02,  5.27175978e-02,  7.22035508e-02,\n",
      "        -2.49636953e-01, -2.44655869e-01],\n",
      "       [-1.45986302e+00,  4.36439381e-01,  6.32491906e-01,\n",
      "         7.59834305e-01,  6.16554941e-01, -1.72269098e-01,\n",
      "         4.38292135e-01, -1.44205475e+00, -2.24099499e+00,\n",
      "         2.43129533e-01,  7.79301322e-01,  7.83274866e-01,\n",
      "         3.78894193e-01,  7.93289980e-01, -1.48553425e+00,\n",
      "         7.60724581e-01,  8.25181079e-01,  6.06753338e-01,\n",
      "        -1.48694813e+00, -6.21488179e-01],\n",
      "       [-1.12226828e+00, -2.38199248e-02,  1.28149980e-01,\n",
      "         2.39001097e-01,  9.06657863e-02,  3.88251825e-01,\n",
      "        -1.20626030e-03, -2.09840589e-01, -8.03055646e-01,\n",
      "        -1.26051191e-01,  2.52833064e-01,  2.38134971e-01,\n",
      "        -2.43890194e-02,  2.46769027e-01, -3.30002173e-01,\n",
      "         2.00657234e-01,  1.88367622e-01,  1.92674114e-01,\n",
      "        -3.47309112e-01, -4.10838009e-01],\n",
      "       [-1.11380316e+00, -1.96131225e-02,  8.83483448e-02,\n",
      "         2.31490794e-01,  8.31232733e-02,  3.94815733e-01,\n",
      "        -1.21677183e-02, -1.86922431e-01, -7.91090555e-01,\n",
      "        -1.18426318e-01,  2.40257761e-01,  2.46400236e-01,\n",
      "        -4.00237871e-02,  2.18413358e-01, -3.33083082e-01,\n",
      "         1.94274850e-01,  1.56070178e-01,  1.98475254e-01,\n",
      "        -3.27677493e-01, -3.92932959e-01],\n",
      "       [ 1.51256642e+00,  7.43667893e-01,  5.89921154e-01,\n",
      "         3.13456832e-01,  6.20887774e-01, -1.47539523e+00,\n",
      "         7.22095665e-01, -5.65293289e-01,  6.31272669e-01,\n",
      "         8.14287307e-01,  2.56770328e-01,  2.28724572e-01,\n",
      "         7.69847502e-01,  2.94116802e-01, -3.83894523e-01,\n",
      "         4.16935495e-01,  1.01554009e-01, -6.76307527e-02,\n",
      "        -3.79016515e-01,  8.97417222e-01]]), array([[-4.61303232,  1.96718433, -1.878992  , -2.36921306, -2.13795612,\n",
      "         3.66627057, -2.29071315, -1.61101478, -2.02726199, -4.07379785,\n",
      "        -1.14617692, -4.42419507, -1.81785835, -1.78459183,  3.56476632]])], 'b': [array([[ 3.2587352 ],\n",
      "       [ 0.39129967],\n",
      "       [ 0.03255755],\n",
      "       [-0.58392789],\n",
      "       [ 0.06543702],\n",
      "       [-0.52833116],\n",
      "       [ 0.369621  ],\n",
      "       [ 1.41533568],\n",
      "       [ 3.60809642],\n",
      "       [ 0.67981997],\n",
      "       [-0.67453502],\n",
      "       [-0.6475256 ],\n",
      "       [ 0.45379301],\n",
      "       [-0.64311527],\n",
      "       [ 1.77124883],\n",
      "       [-0.36680325],\n",
      "       [-0.14412256],\n",
      "       [ 0.07033517],\n",
      "       [ 1.90938987],\n",
      "       [ 0.71408531]]), array([[ 0.53696258],\n",
      "       [-0.48202287],\n",
      "       [ 0.44659827],\n",
      "       [ 0.59737201],\n",
      "       [ 0.52819053],\n",
      "       [-0.52963842],\n",
      "       [ 0.56590088],\n",
      "       [ 0.35776846],\n",
      "       [ 0.49856616],\n",
      "       [ 0.52081271],\n",
      "       [ 0.18650122],\n",
      "       [ 0.40924741],\n",
      "       [ 0.42379211],\n",
      "       [ 0.41973887],\n",
      "       [-0.58211835]]), array([[0.40758962]])]}\n"
     ]
    }
   ],
   "source": [
    "print(cls.parameters)"
   ]
  },
  {
   "cell_type": "code",
   "execution_count": 39,
   "metadata": {},
   "outputs": [
    {
     "data": {
      "image/png": "[encoded data removed]",
      "text/plain": [
       "<Figure size 432x288 with 1 Axes>"
      ]
     },
     "metadata": {
      "needs_background": "light"
     },
     "output_type": "display_data"
    }
   ],
   "source": [
    "plot_data(X, Y)\n",
    "plot_surface(cls, X[:, 0], X[:, 1])"
   ]
  },
  {
   "cell_type": "markdown",
   "metadata": {},
   "source": [
    "Зверніть увагу на границю прийняття рішення. Модель старається побудувати складну криву, що може свідчити про її перетренування. Порівняйте отримані результати з класом з sklearn. Спробуйте додати нові шари для нашого класу та порівняти результати тоді. Поекспериментуйте з гіперпараметрами для обох класів."
   ]
  },
  {
   "cell_type": "code",
   "execution_count": 41,
   "metadata": {},
   "outputs": [],
   "source": [
    "from sklearn.neural_network import MLPClassifier\n",
    "clf = MLPClassifier(hidden_layer_sizes = (20,), max_iter = 10000, activation = 'relu', solver = 'sgd', learning_rate_init = 0.01, learning_rate = 'constant')"
   ]
  },
  {
   "cell_type": "code",
   "execution_count": 42,
   "metadata": {},
   "outputs": [
    {
     "data": {
      "text/plain": [
       "MLPClassifier(activation='relu', alpha=0.0001, batch_size='auto', beta_1=0.9,\n",
       "              beta_2=0.999, early_stopping=False, epsilon=1e-08,\n",
       "              hidden_layer_sizes=(20,), learning_rate='constant',\n",
       "              learning_rate_init=0.01, max_fun=15000, max_iter=10000,\n",
       "              momentum=0.9, n_iter_no_change=10, nesterovs_momentum=True,\n",
       "              power_t=0.5, random_state=None, shuffle=True, solver='sgd',\n",
       "              tol=0.0001, validation_fraction=0.1, verbose=False,\n",
       "              warm_start=False)"
      ]
     },
     "execution_count": 42,
     "metadata": {},
     "output_type": "execute_result"
    }
   ],
   "source": [
    "clf.fit(X, Y)"
   ]
  },
  {
   "cell_type": "code",
   "execution_count": 43,
   "metadata": {},
   "outputs": [
    {
     "data": {
      "image/png": "[encoded data removed]",
      "text/plain": [
       "<Figure size 432x288 with 1 Axes>"
      ]
     },
     "metadata": {
      "needs_background": "light"
     },
     "output_type": "display_data"
    }
   ],
   "source": [
    "plot_data(X, Y)\n",
    "plot_surface(clf, X[:, 0], X[:, 1])"
   ]
  },
  {
   "cell_type": "code",
   "execution_count": 44,
   "metadata": {},
   "outputs": [
    {
     "data": {
      "text/plain": [
       "0.5508474576271186"
      ]
     },
     "execution_count": 44,
     "metadata": {},
     "output_type": "execute_result"
    }
   ],
   "source": [
    "accuracy_score(Y, clf.predict(X))"
   ]
  },
  {
   "cell_type": "code",
   "execution_count": null,
   "metadata": {},
   "outputs": [],
   "source": []
  }
 ],
 "metadata": {
  "kernelspec": {
   "display_name": "Python 3",
   "language": "python",
   "name": "python3"
  },
  "language_info": {
   "codemirror_mode": {
    "name": "ipython",
    "version": 3
   },
   "file_extension": ".py",
   "mimetype": "text/x-python",
   "name": "python",
   "nbconvert_exporter": "python",
   "pygments_lexer": "ipython3",
   "version": "3.7.6"
  }
 },
 "nbformat": 4,
 "nbformat_minor": 4
}
