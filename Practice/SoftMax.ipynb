{
 "cells": [
  {
   "cell_type": "code",
   "execution_count": 1,
   "metadata": {},
   "outputs": [],
   "source": [
    "import numpy as np\n",
    "import pandas as pd\n",
    "\n",
    "from mpl_toolkits.mplot3d import Axes3D\n",
    "import matplotlib.pyplot as plt\n",
    "from matplotlib.colors import ListedColormap\n",
    "cm_bright = ListedColormap(['#BC371B', '#BC881B', '#4FBC1B'])\n",
    "%matplotlib inline\n",
    "\n",
    "from sklearn.datasets import load_iris\n",
    "from sklearn.model_selection import train_test_split\n",
    "from sklearn.metrics import accuracy_score"
   ]
  },
  {
   "cell_type": "code",
   "execution_count": 2,
   "metadata": {},
   "outputs": [],
   "source": [
    "def plot_data(X, y):\n",
    "    ax = plt.gca()\n",
    "    ax.scatter(X[:,0], X[:,1], c=y, cmap=cm_bright)"
   ]
  },
  {
   "cell_type": "code",
   "execution_count": 3,
   "metadata": {},
   "outputs": [],
   "source": [
    "class NeuralNet:\n",
    "    \"\"\"\n",
    "    NN for multi-class classification\n",
    "    Attributes:\n",
    "    ...\n",
    "    \"\"\"\n",
    "    \n",
    "    def __init__(self, neurons_in_layers, normalize = True, learning_rate = 0.01, num_iter = 30000):\n",
    "        self.neurons_in_layers = neurons_in_layers\n",
    "        self.learning_rate = learning_rate\n",
    "        self.num_iter = num_iter\n",
    "        self.normalize = normalize\n",
    "    \n",
    "    def __normalize(self, X, mean = None, std = None):\n",
    "        n = X.shape[0]\n",
    "        m = mean\n",
    "        if m is None:\n",
    "            m = np.mean(X, axis=1).reshape((n, 1))\n",
    "        s = std\n",
    "        if s is None:\n",
    "            s = np.std(X, axis=1).reshape((n, 1))\n",
    "        X_new = (X - m) / s**2\n",
    "        return X_new, m, s\n",
    "    \n",
    "    def __softmax(self, Z):\n",
    "        eZ = np.exp(Z - np.max(Z))\n",
    "        return eZ / np.sum(eZ, axis=0, keepdims=True)\n",
    "\n",
    "    def __initialize_parameters(self):\n",
    "        neurons_in_layers = self.neurons_in_layers\n",
    "        parameters = {}\n",
    "        for i in range(1, len(neurons_in_layers)):\n",
    "            parameters[\"W\" + str(i)] = np.random.randn(neurons_in_layers[i], neurons_in_layers[i - 1]) * 0.01\n",
    "            parameters[\"b\" + str(i)] = np.zeros((neurons_in_layers[i], 1))\n",
    "        self.parameters = parameters\n",
    "       \n",
    "    def __forward_propagation(self, X):\n",
    "        parameters = self.parameters\n",
    "        caches = []\n",
    "        A = X\n",
    "        L = len(parameters) // 2\n",
    "\n",
    "        for i in range(1, L):\n",
    "            prev_A = A\n",
    "            W = parameters[\"W\"+str(i)]\n",
    "            b = parameters[\"b\"+str(i)]\n",
    "            \n",
    "            Z = np.dot(W, prev_A) + b\n",
    "            linear_cache = (prev_A, W, b)\n",
    "            \n",
    "            A = self.__softmax(Z)\n",
    "            activation_cache = Z\n",
    "            \n",
    "            cache = (linear_cache, activation_cache)            \n",
    "            caches.append(cache)   \n",
    "            \n",
    "        W = parameters[\"W\"+str(L)]\n",
    "        b = parameters[\"b\"+str(L)]\n",
    "        \n",
    "        Z = np.dot(W, A) + b\n",
    "        linear_cache = (A, W, b)\n",
    "            \n",
    "        AL = self.__softmax(Z)\n",
    "        activation_cache = Z\n",
    "            \n",
    "        cache = (linear_cache, activation_cache)            \n",
    "        caches.append(cache)  \n",
    "        \n",
    "        assert(AL.shape == (3, X.shape[1]))\n",
    "        return AL, caches\n",
    "    \n",
    "    def compute_cost(self, A, Y):\n",
    "        J = -np.mean(Y.T * np.log(A.T+ 1e-8))\n",
    "        return J\n",
    "        \n",
    "    def __backward_propagation(self, X, Y, caches):\n",
    "        grads = {}\n",
    "        AL = X\n",
    "        L = len(caches)\n",
    "        m = AL.shape[1]\n",
    "        Y = Y.reshape(AL.shape)\n",
    "        dAL = -(np.divide(Y, AL) - np.divide(1 - Y, 1 - AL))\n",
    "        \n",
    "        linear_cache, activation_cache = caches[L-1]\n",
    "        Z = activation_cache\n",
    "        s = self.__softmax(Z)\n",
    "        dZ = dAL * s * (1 - s)\n",
    "        prev_A, W, b = linear_cache\n",
    "        m = prev_A.shape[1]\n",
    "        dW = 1 / m * np.dot(dZ, prev_A.T)\n",
    "        db = 1 / m * np.sum(dZ, axis=1, keepdims=True)\n",
    "        prev_dA = np.dot(W.T, dZ)\n",
    "        \n",
    "        grads[\"dA\" + str(L-1)] = prev_dA\n",
    "        grads[\"dW\" + str(L)] = dW\n",
    "        grads[\"db\" + str(L)] = db\n",
    "        \n",
    "        for i in reversed(range(L-1)):\n",
    "            linear_cache, activation_cache = caches[i]\n",
    "            Z = activation_cache\n",
    "            s = self.__softmax(Z)\n",
    "            dZ = prev_dA * s * (1 - s)\n",
    "            prev_A, W, b = linear_cache\n",
    "            m = prev_A.shape[1]\n",
    "            dW = 1 / m * np.dot(dZ, prev_A.T)\n",
    "            db = 1 / m * np.sum(dZ, axis=1, keepdims=True)\n",
    "            prev_dA = np.dot(W.T, dZ)\n",
    "            \n",
    "            grads[\"dA\" + str(i)] = prev_dA\n",
    "            grads[\"dW\" + str(i + 1)] = dW\n",
    "            grads[\"db\" + str(i + 1)] = db\n",
    "        return grads\n",
    "   \n",
    "    def __update_parameters(self, grads):\n",
    "        parameters = self.parameters\n",
    "        learning_rate = self.learning_rate\n",
    "\n",
    "        for i in range(len(parameters) // 2):\n",
    "            parameters[\"W\" + str(i+1)] = parameters[\"W\" + str(i+1)] - learning_rate * grads[\"dW\" + str(i+1)]\n",
    "            parameters[\"b\" + str(i+1)] = parameters[\"b\" + str(i+1)] - learning_rate * grads[\"db\" + str(i+1)]\n",
    "            \n",
    "        self.parameters = parameters\n",
    "        \n",
    "    def fit(self, X_vert, Y_vert, print_cost = True):\n",
    "        \n",
    "        X, Y = X_vert.T, Y_vert.T\n",
    "        \n",
    "        if self.normalize:\n",
    "            X, self.__mean, self.__std = self.__normalize(X)\n",
    "        \n",
    "        costs = []\n",
    "        \n",
    "        self.__initialize_parameters()\n",
    "\n",
    "        for i in range(0, self.num_iter):\n",
    "            A, caches = self.__forward_propagation(X)\n",
    "\n",
    "            cost = self.compute_cost(A, Y)\n",
    "\n",
    "            grads = self.__backward_propagation(A, Y, caches)\n",
    "\n",
    "            self.__update_parameters(grads)\n",
    "\n",
    "            if print_cost and i % 100 == 0:\n",
    "                print(\"{}-th iteration: {}\".format(i, cost))\n",
    "\n",
    "            if i % 100 == 0:\n",
    "                costs.append(cost)\n",
    "\n",
    "        if print_cost:\n",
    "            plt.plot(costs)\n",
    "            plt.ylabel(\"Cost\")\n",
    "            plt.xlabel(\"Iteration, *100\")\n",
    "            plt.show()\n",
    "    \n",
    "    def predict_proba(self, X_vert):\n",
    "        X = X_vert.T\n",
    "        if self.normalize:\n",
    "            X, _, _ = self.__normalize(X, self.__mean, self.__std)\n",
    "        \n",
    "        probs = self.__forward_propagation(X)[0]\n",
    "        return probs.T\n",
    "    \n",
    "    def predict(self, X_vert):\n",
    "        positive_probs = self.predict_proba(X_vert)\n",
    "        return np.argmax(positive_probs, axis = 1)"
   ]
  },
  {
   "cell_type": "code",
   "execution_count": 4,
   "metadata": {},
   "outputs": [
    {
     "name": "stdout",
     "output_type": "stream",
     "text": [
      "Dataset: X=(150, 4), y=(150,)\n"
     ]
    }
   ],
   "source": [
    "iris = load_iris()\n",
    "X = iris.data\n",
    "Y = iris.target\n",
    "\n",
    "print('Dataset: X={}, y={}'.format(X.shape, Y.shape))"
   ]
  },
  {
   "cell_type": "code",
   "execution_count": 5,
   "metadata": {},
   "outputs": [
    {
     "data": {
      "image/png": "[encoded data removed]",
      "text/plain": [
       "<Figure size 432x288 with 1 Axes>"
      ]
     },
     "metadata": {
      "needs_background": "light"
     },
     "output_type": "display_data"
    }
   ],
   "source": [
    "plot_data(X, Y)"
   ]
  },
  {
   "cell_type": "code",
   "execution_count": 6,
   "metadata": {},
   "outputs": [],
   "source": [
    "cls = NeuralNet(neurons_in_layers = [4, 15, 3], normalize = True, learning_rate = 0.1, num_iter = 2000)"
   ]
  },
  {
   "cell_type": "code",
   "execution_count": 7,
   "metadata": {},
   "outputs": [
    {
     "data": {
      "text/plain": [
       "((120, 4), (30, 4), (120,), (30,))"
      ]
     },
     "execution_count": 7,
     "metadata": {},
     "output_type": "execute_result"
    }
   ],
   "source": [
    "X_train, X_test, Y_train, Y_test = train_test_split(X, Y, test_size = 0.2, random_state=10)\n",
    "X_train.shape, X_test.shape, Y_train.shape, Y_test.shape"
   ]
  },
  {
   "cell_type": "code",
   "execution_count": 8,
   "metadata": {},
   "outputs": [
    {
     "data": {
      "text/plain": [
       "array([[0., 1., 0.],\n",
       "       [0., 1., 0.],\n",
       "       [0., 0., 1.],\n",
       "       [0., 0., 1.],\n",
       "       [0., 0., 1.],\n",
       "       [1., 0., 0.],\n",
       "       [0., 0., 1.],\n",
       "       [0., 0., 1.],\n",
       "       [0., 0., 1.],\n",
       "       [0., 0., 1.],\n",
       "       [1., 0., 0.],\n",
       "       [1., 0., 0.],\n",
       "       [0., 1., 0.],\n",
       "       [1., 0., 0.],\n",
       "       [0., 1., 0.],\n",
       "       [1., 0., 0.],\n",
       "       [0., 1., 0.],\n",
       "       [0., 1., 0.],\n",
       "       [0., 0., 1.],\n",
       "       [0., 0., 1.],\n",
       "       [0., 1., 0.],\n",
       "       [0., 0., 1.],\n",
       "       [0., 1., 0.],\n",
       "       [0., 1., 0.],\n",
       "       [0., 1., 0.],\n",
       "       [1., 0., 0.],\n",
       "       [1., 0., 0.],\n",
       "       [0., 1., 0.],\n",
       "       [1., 0., 0.],\n",
       "       [0., 0., 1.],\n",
       "       [1., 0., 0.],\n",
       "       [1., 0., 0.],\n",
       "       [0., 0., 1.],\n",
       "       [0., 1., 0.],\n",
       "       [0., 0., 1.],\n",
       "       [1., 0., 0.],\n",
       "       [0., 0., 1.],\n",
       "       [1., 0., 0.],\n",
       "       [0., 1., 0.],\n",
       "       [0., 1., 0.],\n",
       "       [1., 0., 0.],\n",
       "       [0., 0., 1.],\n",
       "       [0., 0., 1.],\n",
       "       [0., 0., 1.],\n",
       "       [0., 0., 1.],\n",
       "       [0., 0., 1.],\n",
       "       [1., 0., 0.],\n",
       "       [0., 1., 0.],\n",
       "       [0., 0., 1.],\n",
       "       [0., 1., 0.],\n",
       "       [1., 0., 0.],\n",
       "       [0., 0., 1.],\n",
       "       [0., 1., 0.],\n",
       "       [0., 1., 0.],\n",
       "       [1., 0., 0.],\n",
       "       [1., 0., 0.],\n",
       "       [1., 0., 0.],\n",
       "       [0., 1., 0.],\n",
       "       [0., 0., 1.],\n",
       "       [0., 0., 1.],\n",
       "       [0., 1., 0.],\n",
       "       [1., 0., 0.],\n",
       "       [1., 0., 0.],\n",
       "       [1., 0., 0.],\n",
       "       [0., 0., 1.],\n",
       "       [0., 0., 1.],\n",
       "       [0., 1., 0.],\n",
       "       [0., 1., 0.],\n",
       "       [0., 0., 1.],\n",
       "       [0., 0., 1.],\n",
       "       [0., 0., 1.],\n",
       "       [0., 0., 1.],\n",
       "       [0., 1., 0.],\n",
       "       [1., 0., 0.],\n",
       "       [1., 0., 0.],\n",
       "       [0., 1., 0.],\n",
       "       [1., 0., 0.],\n",
       "       [1., 0., 0.],\n",
       "       [0., 0., 1.],\n",
       "       [0., 1., 0.],\n",
       "       [1., 0., 0.],\n",
       "       [1., 0., 0.],\n",
       "       [1., 0., 0.],\n",
       "       [0., 1., 0.],\n",
       "       [1., 0., 0.],\n",
       "       [0., 1., 0.],\n",
       "       [1., 0., 0.],\n",
       "       [0., 1., 0.],\n",
       "       [0., 0., 1.],\n",
       "       [1., 0., 0.],\n",
       "       [0., 1., 0.],\n",
       "       [0., 1., 0.],\n",
       "       [0., 0., 1.],\n",
       "       [1., 0., 0.],\n",
       "       [0., 0., 1.],\n",
       "       [1., 0., 0.],\n",
       "       [0., 1., 0.],\n",
       "       [0., 1., 0.],\n",
       "       [0., 0., 1.],\n",
       "       [0., 0., 1.],\n",
       "       [1., 0., 0.],\n",
       "       [0., 1., 0.],\n",
       "       [0., 0., 1.],\n",
       "       [0., 0., 1.],\n",
       "       [0., 1., 0.],\n",
       "       [0., 1., 0.],\n",
       "       [0., 0., 1.],\n",
       "       [1., 0., 0.],\n",
       "       [0., 0., 1.],\n",
       "       [1., 0., 0.],\n",
       "       [1., 0., 0.],\n",
       "       [0., 1., 0.],\n",
       "       [1., 0., 0.],\n",
       "       [0., 0., 1.],\n",
       "       [0., 0., 1.],\n",
       "       [0., 0., 1.],\n",
       "       [0., 1., 0.],\n",
       "       [1., 0., 0.],\n",
       "       [0., 0., 1.],\n",
       "       [1., 0., 0.]])"
      ]
     },
     "execution_count": 8,
     "metadata": {},
     "output_type": "execute_result"
    }
   ],
   "source": [
    "Y_train_transf = np.zeros([len(Y_train), 3])\n",
    "for i in range(0, len(Y_train)):\n",
    "    for j in range(0, 3):\n",
    "        if Y_train[i] == j:\n",
    "            Y_train_transf[i][j] = 1\n",
    "\n",
    "Y_train_transf"
   ]
  },
  {
   "cell_type": "code",
   "execution_count": 9,
   "metadata": {},
   "outputs": [
    {
     "name": "stdout",
     "output_type": "stream",
     "text": [
      "0-th iteration: 0.36618757212561837\n",
      "100-th iteration: 0.36548242810662174\n",
      "200-th iteration: 0.36512074323847293\n",
      "300-th iteration: 0.36345205112295403\n",
      "400-th iteration: 0.3533219610218453\n",
      "500-th iteration: 0.27780906699554353\n",
      "600-th iteration: 0.2181975061510966\n",
      "700-th iteration: 0.18867944221411467\n",
      "800-th iteration: 0.15980387600073448\n",
      "900-th iteration: 0.13256855959624592\n",
      "1000-th iteration: 0.11241706553561112\n",
      "1100-th iteration: 0.09642468687624453\n",
      "1200-th iteration: 0.08317407607455084\n",
      "1300-th iteration: 0.07259340649248504\n",
      "1400-th iteration: 0.06448033529917496\n",
      "1500-th iteration: 0.05833716424643164\n",
      "1600-th iteration: 0.053630540933370344\n",
      "1700-th iteration: 0.049932790276226706\n",
      "1800-th iteration: 0.04694290798219379\n",
      "1900-th iteration: 0.04446031231242144\n"
     ]
    },
    {
     "data": {
      "image/png": "[encoded data removed]",
      "text/plain": [
       "<Figure size 432x288 with 1 Axes>"
      ]
     },
     "metadata": {
      "needs_background": "light"
     },
     "output_type": "display_data"
    }
   ],
   "source": [
    "cls.fit(X_train, Y_train_transf)"
   ]
  },
  {
   "cell_type": "code",
   "execution_count": 10,
   "metadata": {},
   "outputs": [
    {
     "name": "stdout",
     "output_type": "stream",
     "text": [
      "{'W1': array([[-1.74546483e-01,  2.43499361e-01, -1.05842610e-01,\n",
      "        -2.73628735e-01],\n",
      "       [ 2.60166077e-01, -1.18529141e+00,  8.50814543e-02,\n",
      "         1.82196735e-01],\n",
      "       [ 2.90693148e-02, -6.98974291e-02,  2.11619625e-02,\n",
      "         2.22793825e-02],\n",
      "       [ 5.51846402e-04, -1.38578717e-01,  1.05705704e-02,\n",
      "        -3.76244969e-02],\n",
      "       [-2.46276933e-02, -8.76621190e-02, -2.38268833e-02,\n",
      "        -5.42824247e-02],\n",
      "       [ 7.35322091e-02, -1.29760563e-01,  4.10938854e-02,\n",
      "         8.63803580e-02],\n",
      "       [ 4.86560818e-03, -1.17779046e-01,  1.24936027e-02,\n",
      "        -3.19183175e-03],\n",
      "       [ 1.44939322e-01, -3.20975389e-01,  7.36327064e-02,\n",
      "         1.61253443e-01],\n",
      "       [ 1.83284828e-02, -2.54961862e-01,  1.26320846e-02,\n",
      "         1.21136828e-03],\n",
      "       [-1.71138760e+00,  4.00440348e-01, -9.62156937e-01,\n",
      "        -2.07980562e+00],\n",
      "       [ 7.35947648e-03,  5.24359516e-02,  6.02590177e-03,\n",
      "        -2.42835887e-04],\n",
      "       [ 7.71075121e-01, -5.22600507e-01,  4.55054358e-01,\n",
      "         1.10101484e+00],\n",
      "       [ 2.49556363e-01, -6.51087445e-01,  1.61068350e-01,\n",
      "         3.17854507e-01],\n",
      "       [ 5.86874429e-01, -1.00927242e+00,  1.58854330e+00,\n",
      "         3.50519691e+00],\n",
      "       [-4.52063680e-02, -3.53155337e-02, -2.54972300e-02,\n",
      "        -8.33540985e-02]]), 'b1': array([[ 0.07144832],\n",
      "       [ 0.78943905],\n",
      "       [ 0.10987855],\n",
      "       [ 0.14051293],\n",
      "       [ 0.11940464],\n",
      "       [ 0.14071852],\n",
      "       [ 0.13151949],\n",
      "       [ 0.24970786],\n",
      "       [ 0.19119636],\n",
      "       [ 0.74591064],\n",
      "       [ 0.06435791],\n",
      "       [ 0.64997473],\n",
      "       [ 0.47551875],\n",
      "       [-0.31666151],\n",
      "       [ 0.10242316]]), 'W2': array([[ 0.16778306, -0.69687355, -0.20456961, -0.17619722, -0.13045661,\n",
      "        -0.26997169, -0.19105668, -0.41019566, -0.24063008,  4.52231123,\n",
      "        -0.13609799, -1.00143421, -0.6333098 , -1.60897724, -0.09914347],\n",
      "       [ 0.16061755,  1.21404475,  0.39111439,  0.44353538,  0.40499112,\n",
      "         0.45051504,  0.43167225,  0.58351621,  0.52079209, -2.50723768,\n",
      "         0.2976613 ,  0.69498234,  0.78843871, -2.33709241,  0.3571842 ],\n",
      "       [-0.3249791 , -0.51068894, -0.18865845, -0.26019863, -0.26378305,\n",
      "        -0.14622926, -0.23154083, -0.1613869 , -0.27534203, -2.02140914,\n",
      "        -0.16561183,  0.30235589, -0.17534183,  3.97594732, -0.27842377]]), 'b2': array([[-1.09881074],\n",
      "       [ 1.87508975],\n",
      "       [-0.77627901]])}\n"
     ]
    }
   ],
   "source": [
    "print(cls.parameters)"
   ]
  },
  {
   "cell_type": "code",
   "execution_count": 11,
   "metadata": {},
   "outputs": [
    {
     "data": {
      "text/plain": [
       "array([[0.01811471, 0.88127121, 0.10061408],\n",
       "       [0.01937024, 0.90631353, 0.07431624],\n",
       "       [0.01209352, 0.25780153, 0.73010496],\n",
       "       [0.00281009, 0.02735214, 0.96983777],\n",
       "       [0.00404024, 0.04736499, 0.94859477],\n",
       "       [0.98064671, 0.01736799, 0.0019853 ],\n",
       "       [0.00476622, 0.05868554, 0.93654824],\n",
       "       [0.00316893, 0.03278538, 0.96404569],\n",
       "       [0.00272142, 0.02612988, 0.9711487 ],\n",
       "       [0.00314549, 0.03246461, 0.96438991],\n",
       "       [0.97966357, 0.0182642 , 0.00207224],\n",
       "       [0.97885265, 0.01900369, 0.00214366],\n",
       "       [0.02401591, 0.89591246, 0.08007163],\n",
       "       [0.90069044, 0.09231163, 0.00699793],\n",
       "       [0.02593038, 0.82797891, 0.14609071],\n",
       "       [0.98085037, 0.01718213, 0.0019675 ],\n",
       "       [0.0204604 , 0.72502223, 0.25451736],\n",
       "       [0.02013628, 0.42660398, 0.55325974],\n",
       "       [0.00429613, 0.05044115, 0.94526271],\n",
       "       [0.00292367, 0.02903352, 0.96804281],\n",
       "       [0.01650495, 0.5722889 , 0.41120614],\n",
       "       [0.00325235, 0.03400666, 0.96274099],\n",
       "       [0.01086849, 0.9691493 , 0.01998221],\n",
       "       [0.02179393, 0.74084097, 0.2373651 ],\n",
       "       [0.02376015, 0.85904878, 0.11719107],\n",
       "       [0.97980843, 0.01813146, 0.00206011],\n",
       "       [0.98032572, 0.01766019, 0.00201409],\n",
       "       [0.0210319 , 0.83193933, 0.14702878],\n",
       "       [0.97913479, 0.01874657, 0.00211864],\n",
       "       [0.00955483, 0.15976739, 0.83067778],\n",
       "       [0.98050084, 0.01750101, 0.00199815],\n",
       "       [0.98049868, 0.01750317, 0.00199815],\n",
       "       [0.01393067, 0.31372424, 0.67234509],\n",
       "       [0.02064954, 0.95533407, 0.0240164 ],\n",
       "       [0.00290082, 0.02873263, 0.96836655],\n",
       "       [0.98081527, 0.01721417, 0.00197057],\n",
       "       [0.00382757, 0.04340318, 0.95276925],\n",
       "       [0.97929859, 0.01859962, 0.00210179],\n",
       "       [0.01651141, 0.94149325, 0.04199534],\n",
       "       [0.01316542, 0.2883139 , 0.69852068],\n",
       "       [0.98081151, 0.01721774, 0.00197076],\n",
       "       [0.00313047, 0.03216136, 0.96470817],\n",
       "       [0.01482673, 0.34190935, 0.64326393],\n",
       "       [0.00737279, 0.11223158, 0.88039563],\n",
       "       [0.00317177, 0.03308741, 0.96374081],\n",
       "       [0.01796744, 0.51853114, 0.46350142],\n",
       "       [0.9807029 , 0.01731661, 0.00198048],\n",
       "       [0.01558756, 0.96016427, 0.02424817],\n",
       "       [0.00410266, 0.04864887, 0.94724847],\n",
       "       [0.02108198, 0.91672871, 0.06218932],\n",
       "       [0.97988011, 0.01806769, 0.0020522 ],\n",
       "       [0.00318018, 0.03294401, 0.96387581],\n",
       "       [0.02001811, 0.87747206, 0.10250983],\n",
       "       [0.02641311, 0.91400915, 0.05957774],\n",
       "       [0.98063067, 0.01738235, 0.00198697],\n",
       "       [0.97974825, 0.01818638, 0.00206537],\n",
       "       [0.98023535, 0.0177425 , 0.00202215],\n",
       "       [0.036128  , 0.84273983, 0.12113217],\n",
       "       [0.00368071, 0.04148353, 0.95483576],\n",
       "       [0.00625465, 0.08830329, 0.90544205],\n",
       "       [0.01992605, 0.85142904, 0.12864491],\n",
       "       [0.98037742, 0.01761329, 0.0020093 ],\n",
       "       [0.98066911, 0.01734727, 0.00198361],\n",
       "       [0.98011738, 0.01785024, 0.00203238],\n",
       "       [0.00312068, 0.0319868 , 0.96489252],\n",
       "       [0.00466381, 0.05766417, 0.93767202],\n",
       "       [0.01772376, 0.91197304, 0.0703032 ],\n",
       "       [0.01091978, 0.9651169 , 0.02396332],\n",
       "       [0.0063132 , 0.08734703, 0.90633977],\n",
       "       [0.00440676, 0.05295373, 0.94263951],\n",
       "       [0.0103596 , 0.1742886 , 0.81535179],\n",
       "       [0.01776498, 0.59335649, 0.38887853],\n",
       "       [0.01840139, 0.90073213, 0.08086649],\n",
       "       [0.97998548, 0.01797063, 0.00204389],\n",
       "       [0.9806242 , 0.01738834, 0.00198746],\n",
       "       [0.01845519, 0.91619101, 0.0653538 ],\n",
       "       [0.97764559, 0.02010664, 0.00224777],\n",
       "       [0.9809086 , 0.01712914, 0.00196226],\n",
       "       [0.01028083, 0.17663535, 0.81308382],\n",
       "       [0.01183899, 0.97030265, 0.01785836],\n",
       "       [0.97872058, 0.0191236 , 0.00215583],\n",
       "       [0.98018004, 0.01779312, 0.00202684],\n",
       "       [0.97934347, 0.01855595, 0.00210058],\n",
       "       [0.02038545, 0.95883089, 0.02078367],\n",
       "       [0.97737702, 0.02035127, 0.00227171],\n",
       "       [0.02036879, 0.87525254, 0.10437868],\n",
       "       [0.98019774, 0.01777824, 0.00202402],\n",
       "       [0.01420812, 0.92896691, 0.05682497],\n",
       "       [0.01593741, 0.50221692, 0.48184568],\n",
       "       [0.9801116 , 0.01785639, 0.00203201],\n",
       "       [0.02121136, 0.76871125, 0.21007739],\n",
       "       [0.01404071, 0.94415753, 0.04180176],\n",
       "       [0.00405991, 0.04562084, 0.95031925],\n",
       "       [0.97887256, 0.01898907, 0.00213837],\n",
       "       [0.01110775, 0.19554633, 0.79334592],\n",
       "       [0.98083062, 0.01720049, 0.00196889],\n",
       "       [0.01232699, 0.96075631, 0.02691671],\n",
       "       [0.01219308, 0.24619574, 0.74161118],\n",
       "       [0.00290754, 0.02895939, 0.96813307],\n",
       "       [0.00336691, 0.03529473, 0.96133837],\n",
       "       [0.98058498, 0.01742383, 0.00199119],\n",
       "       [0.00888265, 0.97185557, 0.01926178],\n",
       "       [0.00313993, 0.03260186, 0.96425822],\n",
       "       [0.00465909, 0.05916731, 0.9361736 ],\n",
       "       [0.04277605, 0.90468919, 0.05253475],\n",
       "       [0.01838915, 0.58354479, 0.39806606],\n",
       "       [0.00290232, 0.02864286, 0.96845482],\n",
       "       [0.97989478, 0.01805282, 0.0020524 ],\n",
       "       [0.00331251, 0.03472416, 0.96196334],\n",
       "       [0.98034058, 0.01764678, 0.00201264],\n",
       "       [0.98038804, 0.01760352, 0.00200844],\n",
       "       [0.01741615, 0.92387179, 0.05871206],\n",
       "       [0.98041854, 0.01757707, 0.00200439],\n",
       "       [0.00301332, 0.03042628, 0.9665604 ],\n",
       "       [0.00594446, 0.08391039, 0.91014515],\n",
       "       [0.00363262, 0.04018031, 0.95618707],\n",
       "       [0.03261334, 0.91755466, 0.049832  ],\n",
       "       [0.9799657 , 0.01798795, 0.00204635],\n",
       "       [0.0084572 , 0.1420054 , 0.8495374 ],\n",
       "       [0.98022943, 0.01774886, 0.00202171]])"
      ]
     },
     "execution_count": 11,
     "metadata": {},
     "output_type": "execute_result"
    }
   ],
   "source": [
    "Y_prob = cls.predict_proba(X_train)\n",
    "Y_prob"
   ]
  },
  {
   "cell_type": "code",
   "execution_count": 12,
   "metadata": {},
   "outputs": [
    {
     "data": {
      "text/plain": [
       "array([1, 1, 2, 2, 2, 0, 2, 2, 2, 2, 0, 0, 1, 0, 1, 0, 1, 2, 2, 2, 1, 2,\n",
       "       1, 1, 1, 0, 0, 1, 0, 2, 0, 0, 2, 1, 2, 0, 2, 0, 1, 2, 0, 2, 2, 2,\n",
       "       2, 1, 0, 1, 2, 1, 0, 2, 1, 1, 0, 0, 0, 1, 2, 2, 1, 0, 0, 0, 2, 2,\n",
       "       1, 1, 2, 2, 2, 1, 1, 0, 0, 1, 0, 0, 2, 1, 0, 0, 0, 1, 0, 1, 0, 1,\n",
       "       1, 0, 1, 1, 2, 0, 2, 0, 1, 2, 2, 2, 0, 1, 2, 2, 1, 1, 2, 0, 2, 0,\n",
       "       0, 1, 0, 2, 2, 2, 1, 0, 2, 0], dtype=int64)"
      ]
     },
     "execution_count": 12,
     "metadata": {},
     "output_type": "execute_result"
    }
   ],
   "source": [
    "Y_train_hat = cls.predict(X_train)\n",
    "Y_train_hat"
   ]
  },
  {
   "cell_type": "code",
   "execution_count": 13,
   "metadata": {},
   "outputs": [
    {
     "data": {
      "text/plain": [
       "0.95"
      ]
     },
     "execution_count": 13,
     "metadata": {},
     "output_type": "execute_result"
    }
   ],
   "source": [
    "accuracy_score(Y_train, Y_train_hat)"
   ]
  },
  {
   "cell_type": "code",
   "execution_count": 14,
   "metadata": {},
   "outputs": [
    {
     "data": {
      "text/plain": [
       "array([1, 2, 0, 1, 0, 1, 2, 1, 0, 1, 1, 2, 1, 0, 0, 2, 1, 0, 0, 0, 2, 2,\n",
       "       2, 0, 1, 0, 1, 1, 1, 2], dtype=int64)"
      ]
     },
     "execution_count": 14,
     "metadata": {},
     "output_type": "execute_result"
    }
   ],
   "source": [
    "Y_test_hat = cls.predict(X_test)\n",
    "Y_test_hat"
   ]
  },
  {
   "cell_type": "code",
   "execution_count": 15,
   "metadata": {},
   "outputs": [
    {
     "data": {
      "text/plain": [
       "0.9666666666666667"
      ]
     },
     "execution_count": 15,
     "metadata": {},
     "output_type": "execute_result"
    }
   ],
   "source": [
    "accuracy_score(Y_test, Y_test_hat)"
   ]
  },
  {
   "cell_type": "code",
   "execution_count": null,
   "metadata": {},
   "outputs": [],
   "source": []
  }
 ],
 "metadata": {
  "kernelspec": {
   "display_name": "Python 3",
   "language": "python",
   "name": "python3"
  },
  "language_info": {
   "codemirror_mode": {
    "name": "ipython",
    "version": 3
   },
   "file_extension": ".py",
   "mimetype": "text/x-python",
   "name": "python",
   "nbconvert_exporter": "python",
   "pygments_lexer": "ipython3",
   "version": "3.7.6"
  }
 },
 "nbformat": 4,
 "nbformat_minor": 4
}
