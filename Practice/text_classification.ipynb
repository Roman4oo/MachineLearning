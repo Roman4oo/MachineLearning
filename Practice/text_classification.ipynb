{
 "cells": [
  {
   "cell_type": "code",
   "execution_count": 28,
   "metadata": {},
   "outputs": [
    {
     "name": "stderr",
     "output_type": "stream",
     "text": [
      "[nltk_data] Downloading package stopwords to\n",
      "[nltk_data]     C:\\Users\\WellDone\\AppData\\Roaming\\nltk_data...\n",
      "[nltk_data]   Package stopwords is already up-to-date!\n"
     ]
    }
   ],
   "source": [
    "import numpy as np\n",
    "import pandas as pd\n",
    "from sklearn.model_selection import train_test_split\n",
    "import matplotlib.pyplot as plt\n",
    "\n",
    "\n",
    "import sklearn.linear_model\n",
    "from sklearn.datasets import fetch_20newsgroups\n",
    "import re\n",
    "import nltk\n",
    "from time import time\n",
    "from sklearn.preprocessing import OneHotEncoder\n",
    "from sklearn.feature_extraction.text import TfidfVectorizer\n",
    "from sklearn.metrics import classification_report\n",
    "nltk.download('stopwords')\n",
    "from sklearn.preprocessing import LabelEncoder\n",
    "from sklearn.naive_bayes import MultinomialNB\n",
    "from sklearn.metrics import accuracy_score\n",
    "from sklearn.metrics import confusion_matrix\n",
    "from sklearn.neural_network import MLPClassifier"
   ]
  },
  {
   "cell_type": "code",
   "execution_count": 29,
   "metadata": {},
   "outputs": [
    {
     "ename": "SyntaxError",
     "evalue": "EOL while scanning string literal (<ipython-input-29-e8ca9518e1b6>, line 21)",
     "output_type": "error",
     "traceback": [
      "\u001b[1;36m  File \u001b[1;32m\"<ipython-input-29-e8ca9518e1b6>\"\u001b[1;36m, line \u001b[1;32m21\u001b[0m\n\u001b[1;33m    'X-Bytes', 'X-Disclaimedef clean_text(texts):\u001b[0m\n\u001b[1;37m                                                 ^\u001b[0m\n\u001b[1;31mSyntaxError\u001b[0m\u001b[1;31m:\u001b[0m EOL while scanning string literal\n"
     ]
    }
   ],
   "source": [
    "def clean_text(texts):\n",
    "    \"\"\"\n",
    "    Return the cleaned text\n",
    "    \n",
    "    # Arguments\n",
    "        texts: list of strings.\n",
    "        \n",
    "    # Returns\n",
    "        list of strings\n",
    "    \"\"\"\n",
    "    from nltk.corpus import stopwords\n",
    "    stop_words = set(stopwords.words('english'))\n",
    "    \n",
    "    from nltk.stem.porter import PorterStemmer\n",
    "    stemmer = PorterStemmer()\n",
    "    \n",
    "    HEADERS = [\n",
    "    'From', 'Subject', 'To', 'Reply-To', 'In-Reply-To', 'Apparently-To',\n",
    "    'Original-Sender', 'Originator', 'Moderator', 'Organization', 'Keywords',\n",
    "    'Distribution', 'NNTP-Posting-Host', 'Lines', 'Summary', 'Supersedes',\n",
    "    'X-Bytes', 'X-Disclaimedef clean_text(texts):\n",
    "    \"\"\"\n",
    "    Return the cleaned text\n",
    "    \n",
    "    # Arguments\n",
    "        texts: list of strings.\n",
    "        \n",
    "    # Returns\n",
    "        list of strings\n",
    "    \"\"\"\n",
    "    from nltk.corpus import stopwords\n",
    "    stop_words = set(stopwords.words('english'))\n",
    "    \n",
    "    from nltk.stem.porter import PorterStemmer\n",
    "    stemmer = PorterStemmer()\n",
    "    \n",
    "    HEADERS = [\n",
    "    'From', 'Subject', 'To', 'Reply-To', 'In-Reply-To', 'Apparently-To',\n",
    "    'Original-Sender', 'Originator', 'Moderator', 'Organization', 'Keywords',\n",
    "    'Distribution', 'NNTP-Posting-Host', 'Lines', 'Summary', 'Supersedes',\n",
    "    'X-Bytes', 'X-Disclaimer', 'X-Mailer', 'X-Newsreader', 'X-News-Reader',\n",
    "    'X-Gated-By', 'X-Added', 'X-Status',\n",
    "    'OD-Comment-To', 'Expires', 'Disclaimer', 'Article-I.D.', \n",
    "    'News-Software',  'Nf-ID', 'Mime-Version'\n",
    "    ]\n",
    "    \n",
    "    corpus = []\n",
    "    #remove ...\n",
    "    for i in range(0, len(texts)):\n",
    "        t = texts[i]\n",
    "        \n",
    "        for h in HEADERS:\n",
    "            t = re.sub(r'.*'+h+':.*', '', t) #header\n",
    "        \n",
    "        t = re.sub(r'[\\w\\.-]+@[\\w\\.-]+', '', t) # email\n",
    "        t = re.sub(r\"\\n\", \" \", t) # newline char\n",
    "        t = re.sub('[^a-zA-Z]', ' ', t) #numbers\n",
    "        t = t.lower() # to lowercase\n",
    "        t = t.split()\n",
    "        t = [w for w in t if not w in stop_words] #remove stopwords\n",
    "        stemmer = PorterStemmer() \n",
    "        t = [stemmer.stem(w) for w in t] #stem words\n",
    "        t = ' '.join(t)\n",
    "        corpus.append(t)\n",
    "        \n",
    "    return corpusr', 'X-Mailer', 'X-Newsreader', 'X-News-Reader',\n",
    "    'X-Gated-By', 'X-Added', 'X-Status',\n",
    "    'OD-Comment-To', 'Expires', 'Disclaimer', 'Article-I.D.', \n",
    "    'News-Software',  'Nf-ID', 'Mime-Version'\n",
    "    ]\n",
    "    \n",
    "    corpus = []\n",
    "    #remove ...\n",
    "    for i in range(0, len(texts)):\n",
    "        t = texts[i]\n",
    "        \n",
    "        for h in HEADERS:\n",
    "            t = re.sub(r'.*'+h+':.*', '', t) #header\n",
    "        \n",
    "        t = re.sub(r'[\\w\\.-]+@[\\w\\.-]+', '', t) # email\n",
    "        t = re.sub(r\"\\n\", \" \", t) # newline char\n",
    "        t = re.sub('[^a-zA-Z]', ' ', t) #numbers\n",
    "        t = t.lower() # to lowercase\n",
    "        t = t.split()\n",
    "        t = [w for w in t if not w in stop_words] #remove stopwords\n",
    "        stemmer = PorterStemmer() \n",
    "        t = [stemmer.stem(w) for w in t] #stem words\n",
    "        t = ' '.join(t)\n",
    "        corpus.append(t)\n",
    "        \n",
    "    return corpus"
   ]
  },
  {
   "cell_type": "code",
   "execution_count": 30,
   "metadata": {},
   "outputs": [],
   "source": [
    "class NeuralNet:\n",
    "    \n",
    "    \n",
    "    def __init__(self, normalize = True, learning_rate = 0.01, max_iter = 30000, hidden_layer_sizes=(100,), \\\n",
    "                 beta=0.999, epsilon=1e-8, tol=1e-6, batch_size=64):\n",
    "        self.learning_rate = learning_rate\n",
    "        self.max_iter = max_iter\n",
    "        self.normalize = normalize\n",
    "        self.hidden_layer_sizes = hidden_layer_sizes\n",
    "        self.n_layers = 1 + len(hidden_layer_sizes)\n",
    "        self.epsilon = epsilon\n",
    "        self.tol = tol\n",
    "        self.beta = beta\n",
    "        self.batch_size = batch_size\n",
    "    \n",
    "    def __normalize(self, X, mean = None, std = None):\n",
    "        n = X.shape[0]\n",
    "        m = mean\n",
    "        if m is None:\n",
    "            m = np.mean(X, axis=1).reshape((n, 1))\n",
    "        s = std\n",
    "        if s is None:\n",
    "            s = np.std(X, axis=1).reshape((n, 1))\n",
    "        X_new = (X - m) / s**2\n",
    "        return X_new, m, s\n",
    "\n",
    "    def __sigmoid(self, Z):\n",
    "        return 1 / (1 + np.exp(-Z))\n",
    "    \n",
    "    def softmax(self, Z):\n",
    "        expZ = np.exp(Z - np.max(Z))\n",
    "        return expZ / expZ.sum(axis=0, keepdims=True)\n",
    "    \n",
    "    def __initialize_parameters(self, n_x, hidden_layers, n_y):\n",
    "        np.random.seed(1)\n",
    "        W = list()\n",
    "        b = list()\n",
    "        self.S_dW = list()\n",
    "        self.S_db = list()\n",
    "        \n",
    "        h = list(hidden_layers)\n",
    "        h.insert(0, n_x)\n",
    "        h.append(n_y)\n",
    "        hidden_layers = tuple(h)\n",
    "        \n",
    "        for i in range(1, self.n_layers+1):\n",
    "            W.append(np.random.randn(hidden_layers[i], hidden_layers[i-1]) / np.sqrt(\n",
    "                hidden_layers[i - 1]))\n",
    "            b.append(np.zeros((hidden_layers[i], 1)))\n",
    "            \n",
    "            self.S_dW.append(np.zeros((hidden_layers[i], hidden_layers[i-1])))\n",
    "            self.S_db.append(np.zeros((hidden_layers[i], 1)))\n",
    "\n",
    "        self.parameters = {\"W\" : W, \"b\" : b}\n",
    "    \n",
    "    def __forward_propagation(self, X):\n",
    "        W = self.parameters[\"W\"]\n",
    "        b = self.parameters[\"b\"]\n",
    "\n",
    "        A = list()\n",
    "        Z = list()\n",
    "               \n",
    "        for i in range(0, self.n_layers-1):\n",
    "            if i == 0:\n",
    "                Z.append(np.dot(W[i], X) + b[i])\n",
    "            else:\n",
    "                Z.append(np.dot(W[i], A[i-1]) + b[i])\n",
    "            A.append(self.__sigmoid(Z[i]))\n",
    "        \n",
    "        Z.append(np.dot(W[-1], A[-1]) + b[-1])\n",
    "        A.append(self.softmax(Z[-1]))\n",
    "        \n",
    "        cache = (W, b, Z, A)\n",
    "\n",
    "        return A[-1], cache\n",
    "    \n",
    "    def __sigmoid_derivative(self, Z):\n",
    "        s = 1 / (1 + np.exp(-Z))\n",
    "        return np.multiply(s, (1 - s))\n",
    "    \n",
    "    def cross_entropy(self, A, Y):\n",
    "        return - np.sum(np.log(A) * (Y), axis=1)\n",
    "    \n",
    "    def compute_cost(self, A, Y):\n",
    "        J = -np.mean(Y.T * np.log(A.T+ 1e-8))\n",
    "        return J\n",
    "        \n",
    "    def __backward_propagation(self, X, Y, cache):\n",
    "        m = X.shape[1]\n",
    "        n = X.shape[0]\n",
    "        (W, b, Z, A) = cache\n",
    "        \n",
    "        dW = [None] * (self.n_layers)\n",
    "        dA = [None] * (self.n_layers)\n",
    "        dZ = [None] * (self.n_layers)\n",
    "        db = [None] * (self.n_layers)\n",
    "        \n",
    "        dZ[-1] = (A[-1] - Y)\n",
    "        dW[-1] = (1. / m * np.dot(dZ[-1], A[-2].T))\n",
    "        db[-1] = (1. / m * np.sum(dZ[-1], axis = 1, keepdims = True))\n",
    "        dA[-1] = np.dot(W[-1].T, dZ[-1])\n",
    "        \n",
    "        for i in range(self.n_layers-1, 0, -1):\n",
    "            dZ[i-1] = np.multiply(dA[i], self.__sigmoid_derivative(Z[i-1]))\n",
    "            if i-1 == 0:\n",
    "                dW[i-1] = 1. / m * np.dot(dZ[i-1], X.T)\n",
    "            else:\n",
    "                dW[i-1] = 1. / m * np.dot(dZ[i-1], A[i-2].T)\n",
    "            db[i-1] = 1. / m * np.sum(dZ[i-1], axis = 1, keepdims = True) \n",
    "            dA[i-1] = np.dot(W[i-1].T, dZ[i-1])\n",
    "        \n",
    "        grads = {\"dZ\" : dZ, \"dW\" : dW, \"db\" : db}\n",
    "        return grads\n",
    "    \n",
    "    def __update_parameters(self, grads):\n",
    "        W = self.parameters[\"W\"]\n",
    "        b = self.parameters[\"b\"]\n",
    "\n",
    "        dW = grads[\"dW\"]\n",
    "        db = grads[\"db\"]\n",
    "        \n",
    "        for i in range(self.n_layers):\n",
    "            self.S_dW[i] = self.beta * self.S_dW[i] + (1 - self.beta) * np.power(dW[i], 2)\n",
    "            self.S_db[i] = self.beta * self.S_db[i] + (1 - self.beta) * np.power(db[i], 2)\n",
    "            W[i] = W[i] - self.learning_rate * dW[i] / (np.sqrt(self.S_dW[i]) + self.epsilon)\n",
    "            b[i] = b[i] - self.learning_rate * db[i] / (np.sqrt(self.S_db[i]) + self.epsilon)\n",
    "            \n",
    "        self.parameters = {\"W\" : W, \"b\" : b}\n",
    "        \n",
    "    def create_mini_batches(self, X, Y, batch_size): \n",
    "        m = X.shape[1]\n",
    "        mini_batches = [] \n",
    "        \n",
    "        batch_size = self.batch_size if self.batch_size != None else m\n",
    "        \n",
    "        permutation = list(np.random.permutation(m))\n",
    "        shuffled_X = X[:, permutation]\n",
    "        \n",
    "        shuffled_Y = Y[:, permutation]\n",
    "         \n",
    "        n_minibatches = m // batch_size \n",
    "\n",
    "        for i in range(n_minibatches + 1): \n",
    "            X_mini = shuffled_X[:, i*batch_size : (i + 1)*batch_size]\n",
    "            Y_mini = shuffled_Y[:, i*batch_size : (i + 1)*batch_size] \n",
    "            mini_batches.append((X_mini, Y_mini)) \n",
    "        if m % batch_size != 0: \n",
    "            X_mini = shuffled_X[:, i*batch_size:]\n",
    "            Y_mini = shuffled_Y[:, i*batch_size:]\n",
    "            mini_batches.append((X_mini, Y_mini)) \n",
    "        return mini_batches \n",
    "\n",
    "    def fit(self, X_vert, Y_vert, print_cost = True):\n",
    "        self.n_iter = 0\n",
    "        X, Y = X_vert.T, Y_vert.T\n",
    "        \n",
    "        if self.normalize:\n",
    "            X, self.__mean, self.__std = self.__normalize(X)\n",
    "        \n",
    "        costs = []\n",
    "        cost_history = []\n",
    "        \n",
    "        m = X.shape[1]\n",
    "        n_x = X.shape[0]\n",
    "        n_y = Y.shape[0]\n",
    "        \n",
    "        self.__initialize_parameters(n_x, self.hidden_layer_sizes, n_y)\n",
    "\n",
    "        \n",
    "        \n",
    "        for i in range(self.max_iter):\n",
    "            self.n_iter = i\n",
    "            \n",
    "            mini_batches = self.create_mini_batches(X, Y, self.batch_size)\n",
    "            \n",
    "            for (mini_X, mini_Y) in mini_batches:\n",
    "                A, cache = self.__forward_propagation(mini_X)\n",
    "\n",
    "                cost = self.compute_cost(A, mini_Y)\n",
    "\n",
    "                grads = self.__backward_propagation(mini_X, mini_Y, cache)\n",
    "\n",
    "                self.__update_parameters(grads)\n",
    "            \n",
    "            cost_history.append(cost)\n",
    "            \n",
    "            if print_cost and i % 10 == 0:\n",
    "                print(\"{}-th iteration: {}\".format(i, cost))\n",
    "\n",
    "            #if i % 10 == 0:\n",
    "            costs.append(cost)\n",
    "  \n",
    "            if i > 1 and abs(cost-cost_history[-2]) < self.tol:\n",
    "                break\n",
    "\n",
    "        if print_cost:\n",
    "            plt.plot(costs)\n",
    "            plt.ylabel(\"Cost\")\n",
    "            plt.xlabel(\"Iteration\")\n",
    "            plt.show()\n",
    "    \n",
    "    def predict_proba(self, X_vert):\n",
    "        X = X_vert.T\n",
    "        if self.normalize:\n",
    "            X, _, _ = self.__normalize(X, self.__mean, self.__std)\n",
    "        \n",
    "        probs = self.__forward_propagation(X)[0]\n",
    "        \n",
    "        return probs.T\n",
    "    \n",
    "    def predict(self, X_vert):\n",
    "        positive_probs = self.predict_proba(X_vert)\n",
    "        y_pred = self.to_classlabel(positive_probs)\n",
    "        return y_pred  \n",
    "\n",
    "    def to_classlabel(self, z):\n",
    "        return z.argmax(axis=1)"
   ]
  },
  {
   "cell_type": "code",
   "execution_count": 31,
   "metadata": {},
   "outputs": [],
   "source": [
    "df = fetch_20newsgroups(subset=\"all\", shuffle=False)"
   ]
  },
  {
   "cell_type": "code",
   "execution_count": 25,
   "metadata": {},
   "outputs": [
    {
     "data": {
      "text/plain": [
       "18846"
      ]
     },
     "execution_count": 25,
     "metadata": {},
     "output_type": "execute_result"
    }
   ],
   "source": [
    "type(df)"
   ]
  },
  {
   "cell_type": "code",
   "execution_count": 32,
   "metadata": {},
   "outputs": [
    {
     "data": {
      "text/plain": [
       "18846"
      ]
     },
     "execution_count": 32,
     "metadata": {},
     "output_type": "execute_result"
    }
   ],
   "source": [
    "len(df.data)"
   ]
  },
  {
   "cell_type": "code",
   "execution_count": 33,
   "metadata": {},
   "outputs": [
    {
     "data": {
      "text/plain": [
       "[\"From: cubbie@garnet.berkeley.edu (                               )\\nSubject: Re: Cubs behind Marlins? How?\\nArticle-I.D.: agate.1pt592$f9a\\nOrganization: University of California, Berkeley\\nLines: 12\\nNNTP-Posting-Host: garnet.berkeley.edu\\n\\n\\ngajarsky@pilot.njin.net writes:\\n\\nmorgan and guzman will have era's 1 run higher than last year, and\\n the cubs will be idiots and not pitch harkey as much as hibbard.\\n castillo won't be good (i think he's a stud pitcher)\\n\\n       This season so far, Morgan and Guzman helped to lead the Cubs\\n       at top in ERA, even better than THE rotation at Atlanta.\\n       Cubs ERA at 0.056 while Braves at 0.059. We know it is early\\n       in the season, we Cubs fans have learned how to enjoy the\\n       short triumph while it is still there.\\n\",\n",
       " 'From: gnelson@pion.rutgers.edu (Gregory Nelson)\\nSubject: Thanks Apple: Free Ethernet on my C610!\\nArticle-I.D.: pion.Apr.6.12.05.34.1993.11732\\nOrganization: Rutgers Univ., New Brunswick, N.J.\\nLines: 26\\n\\n\\n\\tWell, I just got my Centris 610 yesterday.  It took just over two \\nweeks from placing the order.  The dealer (Rutgers computer store) \\nappologized because Apple made a substitution on my order.  I ordered\\nthe one without ethernet, but they substituted one _with_ ethernet.\\nHe wanted to know if that would be \"alright with me\"!!!  They must\\nbe backlogged on Centri w/out ethernet so they\\'re just shipping them\\nwith!  \\n\\n\\tAnyway, I\\'m very happy with the 610 with a few exceptions.  \\nBeing nosy, I decided to open it up _before_ powering it on for the first\\ntime.  The SCSI cable to the hard drive was only partially connected\\n(must have come loose in shipping).  No big deal, but I would have been\\npissed if I tried to boot it and it wouldn\\'t come up!\\n\\tThe hard drive also has an annoying high pitched whine.  I\\'ve\\nheard apple will exchange it if you complain, so I might try to get\\nit swapped.\\n\\tI am also dissappionted by the lack of soft power-on/off.  This\\nwasn\\'t mentioned in any of the literature I saw.  Also, the location\\nof the reset/interupt buttons is awful.  Having keyboard control for\\nthese functions was much more convenient.\\n\\tOh, and the screen seems tojump in a wierd way on power-up.\\nI\\'ve seen this mentioned by others, so it must be a...feature...\\n\\tAnyway, above all, it\\'s fast.  A great machine at a great price!\\n\\ngnelson@physics.rutgers.edu\\n']"
      ]
     },
     "execution_count": 33,
     "metadata": {},
     "output_type": "execute_result"
    }
   ],
   "source": [
    "df.data[0:2]"
   ]
  },
  {
   "cell_type": "code",
   "execution_count": 34,
   "metadata": {},
   "outputs": [
    {
     "name": "stdout",
     "output_type": "stream",
     "text": [
      "From: cubbie@garnet.berkeley.edu (                               )\n",
      "Subject: Re: Cubs behind Marlins? How?\n",
      "Article-I.D.: agate.1pt592$f9a\n",
      "Organization: University of California, Berkeley\n",
      "Lines: 12\n",
      "NNTP-Posting-Host: garnet.berkeley.edu\n",
      "\n",
      "\n",
      "gajarsky@pilot.njin.net writes:\n",
      "\n",
      "morgan and guzman will have era's 1 run higher than last year, and\n",
      " the cubs will be idiots and not pitch harkey as much as hibbard.\n",
      " castillo won't be good (i think he's a stud pitcher)\n",
      "\n",
      "       This season so far, Morgan and Guzman helped to lead the Cubs\n",
      "       at top in ERA, even better than THE rotation at Atlanta.\n",
      "       Cubs ERA at 0.056 while Braves at 0.059. We know it is early\n",
      "       in the season, we Cubs fans have learned how to enjoy the\n",
      "       short triumph while it is still there.\n",
      "\n"
     ]
    }
   ],
   "source": [
    "print(df.data[0])"
   ]
  },
  {
   "cell_type": "markdown",
   "metadata": {},
   "source": [
    "# Function for cleaning text"
   ]
  },
  {
   "cell_type": "code",
   "execution_count": 35,
   "metadata": {},
   "outputs": [],
   "source": [
    "def clean_text(texts):\n",
    "    \"\"\"\n",
    "    Return the cleaned text\n",
    "    \n",
    "    # Arguments\n",
    "        texts: list of strings.\n",
    "        \n",
    "    # Returns\n",
    "        list of strings\n",
    "    \"\"\"\n",
    "    from nltk.corpus import stopwords\n",
    "    stop_words = set(stopwords.words('english'))\n",
    "    \n",
    "    from nltk.stem.porter import PorterStemmer\n",
    "    stemmer = PorterStemmer()\n",
    "    \n",
    "    HEADERS = [\n",
    "    'From', 'Subject', 'To', 'Reply-To', 'In-Reply-To', 'Apparently-To',\n",
    "    'Original-Sender', 'Originator', 'Moderator', 'Organization', 'Keywords',\n",
    "    'Distribution', 'NNTP-Posting-Host', 'Lines', 'Summary', 'Supersedes',\n",
    "    'X-Bytes', 'X-Disclaimer', 'X-Mailer', 'X-Newsreader', 'X-News-Reader',\n",
    "    'X-Gated-By', 'X-Added', 'X-Status',\n",
    "    'OD-Comment-To', 'Expires', 'Disclaimer', 'Article-I.D.', \n",
    "    'News-Software',  'Nf-ID', 'Mime-Version'\n",
    "    ]\n",
    "    \n",
    "    corpus = []\n",
    "    #remove ...\n",
    "    for i in range(0, len(texts)):\n",
    "        t = texts[i]\n",
    "        \n",
    "        for h in HEADERS:\n",
    "            t = re.sub(r'.*'+h+':.*', '', t) #header\n",
    "        \n",
    "        t = re.sub(r'[\\w\\.-]+@[\\w\\.-]+', '', t) # email\n",
    "        t = re.sub(r\"\\n\", \" \", t) # newline char\n",
    "        t = re.sub('[^a-zA-Z]', ' ', t) #numbers\n",
    "        t = t.lower() # to lowercase\n",
    "        t = t.split()\n",
    "        t = [w for w in t if not w in stop_words] #remove stopwords\n",
    "        stemmer = PorterStemmer() \n",
    "        t = [stemmer.stem(w) for w in t] #stem words\n",
    "        t = ' '.join(t)\n",
    "        corpus.append(t)\n",
    "        \n",
    "    return corpus"
   ]
  },
  {
   "cell_type": "code",
   "execution_count": 36,
   "metadata": {},
   "outputs": [],
   "source": [
    "t = clean_text(df.data[0:1])"
   ]
  },
  {
   "cell_type": "code",
   "execution_count": 37,
   "metadata": {},
   "outputs": [
    {
     "name": "stdout",
     "output_type": "stream",
     "text": [
      "['write morgan guzman era run higher last year cub idiot pitch harkey much hibbard castillo good think stud pitcher season far morgan guzman help lead cub top era even better rotat atlanta cub era brave know earli season cub fan learn enjoy short triumph still']\n"
     ]
    }
   ],
   "source": [
    "print(t)"
   ]
  },
  {
   "cell_type": "markdown",
   "metadata": {},
   "source": [
    "# Clean all data"
   ]
  },
  {
   "cell_type": "code",
   "execution_count": 39,
   "metadata": {},
   "outputs": [
    {
     "name": "stdout",
     "output_type": "stream",
     "text": [
      "done in 233.639729s\n"
     ]
    }
   ],
   "source": [
    "t0 = time()\n",
    "corpus = clean_text(df.data)\n",
    "print(\"done in %fs\" % (time() - t0))"
   ]
  },
  {
   "cell_type": "code",
   "execution_count": 40,
   "metadata": {},
   "outputs": [
    {
     "data": {
      "text/plain": [
       "['write morgan guzman era run higher last year cub idiot pitch harkey much hibbard castillo good think stud pitcher season far morgan guzman help lead cub top era even better rotat atlanta cub era brave know earli season cub fan learn enjoy short triumph still',\n",
       " 'well got centri yesterday took two week place order dealer rutger comput store appolog appl made substitut order order one without ethernet substitut one ethernet want know would alright must backlog centri w ethernet ship anyway happi except nosi decid open power first time scsi cabl hard drive partial connect must come loos ship big deal would piss tri boot come hard drive also annoy high pitch whine heard appl exchang complain might tri get swap also dissappiont lack soft power mention literatur saw also locat reset interupt button aw keyboard control function much conveni oh screen seem tojump wierd way power seen mention other must featur anyway fast great machin great price']"
      ]
     },
     "execution_count": 40,
     "metadata": {},
     "output_type": "execute_result"
    }
   ],
   "source": [
    "corpus[0:2]"
   ]
  },
  {
   "cell_type": "code",
   "execution_count": 41,
   "metadata": {},
   "outputs": [
    {
     "data": {
      "text/plain": [
       "array([ 9,  4, 11, ...,  4,  6,  7])"
      ]
     },
     "execution_count": 41,
     "metadata": {},
     "output_type": "execute_result"
    }
   ],
   "source": [
    "df.target"
   ]
  },
  {
   "cell_type": "code",
   "execution_count": 42,
   "metadata": {},
   "outputs": [
    {
     "data": {
      "text/plain": [
       "['alt.atheism',\n",
       " 'comp.graphics',\n",
       " 'comp.os.ms-windows.misc',\n",
       " 'comp.sys.ibm.pc.hardware',\n",
       " 'comp.sys.mac.hardware',\n",
       " 'comp.windows.x',\n",
       " 'misc.forsale',\n",
       " 'rec.autos',\n",
       " 'rec.motorcycles',\n",
       " 'rec.sport.baseball',\n",
       " 'rec.sport.hockey',\n",
       " 'sci.crypt',\n",
       " 'sci.electronics',\n",
       " 'sci.med',\n",
       " 'sci.space',\n",
       " 'soc.religion.christian',\n",
       " 'talk.politics.guns',\n",
       " 'talk.politics.mideast',\n",
       " 'talk.politics.misc',\n",
       " 'talk.religion.misc']"
      ]
     },
     "execution_count": 42,
     "metadata": {},
     "output_type": "execute_result"
    }
   ],
   "source": [
    "df.target_names"
   ]
  },
  {
   "cell_type": "code",
   "execution_count": 43,
   "metadata": {},
   "outputs": [
    {
     "data": {
      "text/plain": [
       "20"
      ]
     },
     "execution_count": 43,
     "metadata": {},
     "output_type": "execute_result"
    }
   ],
   "source": [
    "len(df.target_names)"
   ]
  },
  {
   "cell_type": "code",
   "execution_count": 44,
   "metadata": {},
   "outputs": [
    {
     "data": {
      "text/plain": [
       "18846"
      ]
     },
     "execution_count": 44,
     "metadata": {},
     "output_type": "execute_result"
    }
   ],
   "source": [
    "len(corpus)"
   ]
  },
  {
   "cell_type": "markdown",
   "metadata": {},
   "source": [
    "# Create dataframe of cleaned text and targets"
   ]
  },
  {
   "cell_type": "code",
   "execution_count": 45,
   "metadata": {},
   "outputs": [],
   "source": [
    "df2 = pd.DataFrame.from_dict({ 'text': corpus, 'group': np.take(df.target_names, df.target) })"
   ]
  },
  {
   "cell_type": "code",
   "execution_count": 46,
   "metadata": {},
   "outputs": [
    {
     "data": {
      "text/html": [
       "<div>\n",
       "<style scoped>\n",
       "    .dataframe tbody tr th:only-of-type {\n",
       "        vertical-align: middle;\n",
       "    }\n",
       "\n",
       "    .dataframe tbody tr th {\n",
       "        vertical-align: top;\n",
       "    }\n",
       "\n",
       "    .dataframe thead th {\n",
       "        text-align: right;\n",
       "    }\n",
       "</style>\n",
       "<table border=\"1\" class=\"dataframe\">\n",
       "  <thead>\n",
       "    <tr style=\"text-align: right;\">\n",
       "      <th></th>\n",
       "      <th>text</th>\n",
       "      <th>group</th>\n",
       "    </tr>\n",
       "  </thead>\n",
       "  <tbody>\n",
       "    <tr>\n",
       "      <th>0</th>\n",
       "      <td>write morgan guzman era run higher last year c...</td>\n",
       "      <td>rec.sport.baseball</td>\n",
       "    </tr>\n",
       "    <tr>\n",
       "      <th>1</th>\n",
       "      <td>well got centri yesterday took two week place ...</td>\n",
       "      <td>comp.sys.mac.hardware</td>\n",
       "    </tr>\n",
       "    <tr>\n",
       "      <th>2</th>\n",
       "      <td>histori classic method modern method survey re...</td>\n",
       "      <td>sci.crypt</td>\n",
       "    </tr>\n",
       "    <tr>\n",
       "      <th>3</th>\n",
       "      <td>attent mac quadra owner mani storag industri e...</td>\n",
       "      <td>comp.sys.mac.hardware</td>\n",
       "    </tr>\n",
       "    <tr>\n",
       "      <th>4</th>\n",
       "      <td>robert beauchain write show exampl other provi...</td>\n",
       "      <td>alt.atheism</td>\n",
       "    </tr>\n",
       "    <tr>\n",
       "      <th>...</th>\n",
       "      <td>...</td>\n",
       "      <td>...</td>\n",
       "    </tr>\n",
       "    <tr>\n",
       "      <th>18841</th>\n",
       "      <td>nntp post host well sf ca us circuit board gre...</td>\n",
       "      <td>sci.electronics</td>\n",
       "    </tr>\n",
       "    <tr>\n",
       "      <th>18842</th>\n",
       "      <td>articl r write bike luckili guy stop foot behi...</td>\n",
       "      <td>rec.motorcycles</td>\n",
       "    </tr>\n",
       "    <tr>\n",
       "      <th>18843</th>\n",
       "      <td>told resolut fge could go x fg could go x anyb...</td>\n",
       "      <td>comp.sys.mac.hardware</td>\n",
       "    </tr>\n",
       "    <tr>\n",
       "      <th>18844</th>\n",
       "      <td>cad setup sale g plb local bu motherboard use ...</td>\n",
       "      <td>misc.forsale</td>\n",
       "    </tr>\n",
       "    <tr>\n",
       "      <th>18845</th>\n",
       "      <td>articl wen king su write path eclips yktnew wa...</td>\n",
       "      <td>rec.autos</td>\n",
       "    </tr>\n",
       "  </tbody>\n",
       "</table>\n",
       "<p>18846 rows × 2 columns</p>\n",
       "</div>"
      ],
      "text/plain": [
       "                                                    text  \\\n",
       "0      write morgan guzman era run higher last year c...   \n",
       "1      well got centri yesterday took two week place ...   \n",
       "2      histori classic method modern method survey re...   \n",
       "3      attent mac quadra owner mani storag industri e...   \n",
       "4      robert beauchain write show exampl other provi...   \n",
       "...                                                  ...   \n",
       "18841  nntp post host well sf ca us circuit board gre...   \n",
       "18842  articl r write bike luckili guy stop foot behi...   \n",
       "18843  told resolut fge could go x fg could go x anyb...   \n",
       "18844  cad setup sale g plb local bu motherboard use ...   \n",
       "18845  articl wen king su write path eclips yktnew wa...   \n",
       "\n",
       "                       group  \n",
       "0         rec.sport.baseball  \n",
       "1      comp.sys.mac.hardware  \n",
       "2                  sci.crypt  \n",
       "3      comp.sys.mac.hardware  \n",
       "4                alt.atheism  \n",
       "...                      ...  \n",
       "18841        sci.electronics  \n",
       "18842        rec.motorcycles  \n",
       "18843  comp.sys.mac.hardware  \n",
       "18844           misc.forsale  \n",
       "18845              rec.autos  \n",
       "\n",
       "[18846 rows x 2 columns]"
      ]
     },
     "execution_count": 46,
     "metadata": {},
     "output_type": "execute_result"
    }
   ],
   "source": [
    "df2"
   ]
  },
  {
   "cell_type": "markdown",
   "metadata": {},
   "source": [
    "# Split into train and test"
   ]
  },
  {
   "cell_type": "code",
   "execution_count": 47,
   "metadata": {},
   "outputs": [],
   "source": [
    "train, test = train_test_split(df2, test_size=0.2, random_state=42, stratify=df2.group)"
   ]
  },
  {
   "cell_type": "code",
   "execution_count": 48,
   "metadata": {},
   "outputs": [
    {
     "data": {
      "text/plain": [
       "(15076, 2)"
      ]
     },
     "execution_count": 48,
     "metadata": {},
     "output_type": "execute_result"
    }
   ],
   "source": [
    "train.shape"
   ]
  },
  {
   "cell_type": "code",
   "execution_count": 49,
   "metadata": {},
   "outputs": [
    {
     "data": {
      "text/plain": [
       "(3770, 2)"
      ]
     },
     "execution_count": 49,
     "metadata": {},
     "output_type": "execute_result"
    }
   ],
   "source": [
    "test.shape"
   ]
  },
  {
   "cell_type": "markdown",
   "metadata": {},
   "source": [
    "# The most popular groups in train set"
   ]
  },
  {
   "cell_type": "code",
   "execution_count": 50,
   "metadata": {},
   "outputs": [
    {
     "data": {
      "text/plain": [
       "rec.sport.hockey            799\n",
       "soc.religion.christian      798\n",
       "rec.motorcycles             797\n",
       "rec.sport.baseball          795\n",
       "sci.crypt                   793\n",
       "rec.autos                   792\n",
       "sci.med                     792\n",
       "sci.space                   790\n",
       "comp.windows.x              790\n",
       "comp.os.ms-windows.misc     788\n",
       "sci.electronics             787\n",
       "comp.sys.ibm.pc.hardware    786\n",
       "misc.forsale                780\n",
       "comp.graphics               778\n",
       "comp.sys.mac.hardware       770\n",
       "talk.politics.mideast       752\n",
       "talk.politics.guns          728\n",
       "alt.atheism                 639\n",
       "talk.politics.misc          620\n",
       "talk.religion.misc          502\n",
       "Name: group, dtype: int64"
      ]
     },
     "execution_count": 50,
     "metadata": {},
     "output_type": "execute_result"
    }
   ],
   "source": [
    "train.group.value_counts()"
   ]
  },
  {
   "cell_type": "code",
   "execution_count": 51,
   "metadata": {},
   "outputs": [
    {
     "data": {
      "text/plain": [
       "rec.sport.hockey            200\n",
       "rec.motorcycles             199\n",
       "soc.religion.christian      199\n",
       "rec.sport.baseball          199\n",
       "sci.med                     198\n",
       "sci.crypt                   198\n",
       "rec.autos                   198\n",
       "comp.windows.x              198\n",
       "sci.electronics             197\n",
       "comp.os.ms-windows.misc     197\n",
       "sci.space                   197\n",
       "comp.sys.ibm.pc.hardware    196\n",
       "misc.forsale                195\n",
       "comp.graphics               195\n",
       "comp.sys.mac.hardware       193\n",
       "talk.politics.mideast       188\n",
       "talk.politics.guns          182\n",
       "alt.atheism                 160\n",
       "talk.politics.misc          155\n",
       "talk.religion.misc          126\n",
       "Name: group, dtype: int64"
      ]
     },
     "execution_count": 51,
     "metadata": {},
     "output_type": "execute_result"
    }
   ],
   "source": [
    "test.group.value_counts()"
   ]
  },
  {
   "cell_type": "markdown",
   "metadata": {},
   "source": [
    "# Encode target"
   ]
  },
  {
   "cell_type": "code",
   "execution_count": 52,
   "metadata": {},
   "outputs": [],
   "source": [
    "label_encoder = LabelEncoder().fit(train.group)"
   ]
  },
  {
   "cell_type": "code",
   "execution_count": 53,
   "metadata": {},
   "outputs": [
    {
     "data": {
      "text/plain": [
       "array(['alt.atheism', 'comp.graphics', 'comp.os.ms-windows.misc',\n",
       "       'comp.sys.ibm.pc.hardware', 'comp.sys.mac.hardware',\n",
       "       'comp.windows.x', 'misc.forsale', 'rec.autos', 'rec.motorcycles',\n",
       "       'rec.sport.baseball', 'rec.sport.hockey', 'sci.crypt',\n",
       "       'sci.electronics', 'sci.med', 'sci.space',\n",
       "       'soc.religion.christian', 'talk.politics.guns',\n",
       "       'talk.politics.mideast', 'talk.politics.misc',\n",
       "       'talk.religion.misc'], dtype=object)"
      ]
     },
     "execution_count": 53,
     "metadata": {},
     "output_type": "execute_result"
    }
   ],
   "source": [
    "label_encoder.classes_"
   ]
  },
  {
   "cell_type": "code",
   "execution_count": 54,
   "metadata": {},
   "outputs": [
    {
     "name": "stdout",
     "output_type": "stream",
     "text": [
      "Y_train shape: (15076,)\n",
      "Y_test shape: (3770,)\n"
     ]
    }
   ],
   "source": [
    "Y_train = label_encoder.transform(train.group)\n",
    "print('Y_train shape: %s' % (Y_train.shape,))\n",
    "\n",
    "Y_test = label_encoder.transform(test.group)\n",
    "print('Y_test shape: %s' % (Y_test.shape,))"
   ]
  },
  {
   "cell_type": "code",
   "execution_count": 55,
   "metadata": {},
   "outputs": [
    {
     "data": {
      "text/plain": [
       "array([ 5, 16,  1, ..., 14, 11, 16])"
      ]
     },
     "execution_count": 55,
     "metadata": {},
     "output_type": "execute_result"
    }
   ],
   "source": [
    "Y_train"
   ]
  },
  {
   "cell_type": "code",
   "execution_count": 56,
   "metadata": {},
   "outputs": [
    {
     "name": "stdout",
     "output_type": "stream",
     "text": [
      "done in 2.970439s\n"
     ]
    }
   ],
   "source": [
    "t0 = time()\n",
    "tfidf = TfidfVectorizer(max_features=10000).fit(train.text)\n",
    "len(tfidf.vocabulary_)\n",
    "print(\"done in %fs\" % (time() - t0))"
   ]
  },
  {
   "cell_type": "code",
   "execution_count": 57,
   "metadata": {},
   "outputs": [
    {
     "data": {
      "text/plain": [
       "[(200, 'akin'),\n",
       " (201, 'al'),\n",
       " (202, 'ala'),\n",
       " (203, 'alabama'),\n",
       " (204, 'alamo'),\n",
       " (205, 'alan'),\n",
       " (206, 'alarm'),\n",
       " (207, 'alaska'),\n",
       " (208, 'albani'),\n",
       " (209, 'albeit')]"
      ]
     },
     "execution_count": 57,
     "metadata": {},
     "output_type": "execute_result"
    }
   ],
   "source": [
    "keys = sorted((key, token) for token, key in tfidf.vocabulary_.items())\n",
    "keys[200:210]"
   ]
  },
  {
   "cell_type": "code",
   "execution_count": 58,
   "metadata": {},
   "outputs": [
    {
     "name": "stdout",
     "output_type": "stream",
     "text": [
      "X_train shape: (15076, 10000)\n",
      "X_test shape: (3770, 10000)\n",
      "done in 3.810917s\n"
     ]
    }
   ],
   "source": [
    "t0 = time()\n",
    "X_train = tfidf.transform(train.text).toarray()\n",
    "print('X_train shape: %s' % (X_train.shape,))\n",
    "\n",
    "X_test = tfidf.transform(test.text).toarray()\n",
    "print('X_test shape: %s' % (X_test.shape,))\n",
    "print(\"done in %fs\" % (time() - t0))"
   ]
  },
  {
   "cell_type": "code",
   "execution_count": 59,
   "metadata": {},
   "outputs": [
    {
     "data": {
      "text/plain": [
       "array([0., 0., 0., ..., 0., 0., 0.])"
      ]
     },
     "execution_count": 59,
     "metadata": {},
     "output_type": "execute_result"
    }
   ],
   "source": [
    "X_train[0]"
   ]
  },
  {
   "cell_type": "code",
   "execution_count": 60,
   "metadata": {},
   "outputs": [
    {
     "data": {
      "text/plain": [
       "3.926679868086563"
      ]
     },
     "execution_count": 60,
     "metadata": {},
     "output_type": "execute_result"
    }
   ],
   "source": [
    "X_train[0].sum()"
   ]
  },
  {
   "cell_type": "markdown",
   "metadata": {},
   "source": [
    "# Testing with sklearn MultinomialNB"
   ]
  },
  {
   "cell_type": "code",
   "execution_count": 61,
   "metadata": {},
   "outputs": [],
   "source": [
    "from sklearn.naive_bayes import MultinomialNB\n",
    "\n",
    "clf = MultinomialNB().fit(X_train, Y_train)"
   ]
  },
  {
   "cell_type": "code",
   "execution_count": 62,
   "metadata": {},
   "outputs": [
    {
     "name": "stdout",
     "output_type": "stream",
     "text": [
      "                          precision    recall  f1-score   support\n",
      "\n",
      "             alt.atheism       0.89      0.80      0.84       639\n",
      "           comp.graphics       0.85      0.87      0.86       778\n",
      " comp.os.ms-windows.misc       0.85      0.87      0.86       788\n",
      "comp.sys.ibm.pc.hardware       0.78      0.87      0.82       786\n",
      "   comp.sys.mac.hardware       0.92      0.90      0.91       770\n",
      "          comp.windows.x       0.92      0.91      0.92       790\n",
      "            misc.forsale       0.91      0.83      0.87       780\n",
      "               rec.autos       0.94      0.93      0.94       792\n",
      "         rec.motorcycles       0.95      0.97      0.96       797\n",
      "      rec.sport.baseball       0.97      0.98      0.97       795\n",
      "        rec.sport.hockey       0.95      0.98      0.97       799\n",
      "               sci.crypt       0.91      0.95      0.93       793\n",
      "         sci.electronics       0.91      0.86      0.88       787\n",
      "                 sci.med       0.96      0.95      0.96       792\n",
      "               sci.space       0.95      0.95      0.95       790\n",
      "  soc.religion.christian       0.71      0.97      0.82       798\n",
      "      talk.politics.guns       0.78      0.96      0.86       728\n",
      "   talk.politics.mideast       0.93      0.97      0.95       752\n",
      "      talk.politics.misc       0.97      0.75      0.85       620\n",
      "      talk.religion.misc       0.99      0.26      0.42       502\n",
      "\n",
      "                accuracy                           0.89     15076\n",
      "               macro avg       0.90      0.88      0.88     15076\n",
      "            weighted avg       0.90      0.89      0.89     15076\n",
      "\n"
     ]
    }
   ],
   "source": [
    "print(classification_report(Y_train, clf.predict(X_train), target_names=label_encoder.classes_))"
   ]
  },
  {
   "cell_type": "markdown",
   "metadata": {},
   "source": [
    "# Classification report for test set"
   ]
  },
  {
   "cell_type": "code",
   "execution_count": 63,
   "metadata": {},
   "outputs": [
    {
     "name": "stdout",
     "output_type": "stream",
     "text": [
      "                          precision    recall  f1-score   support\n",
      "\n",
      "             alt.atheism       0.86      0.75      0.80       160\n",
      "           comp.graphics       0.73      0.81      0.77       195\n",
      " comp.os.ms-windows.misc       0.77      0.80      0.78       197\n",
      "comp.sys.ibm.pc.hardware       0.72      0.77      0.74       196\n",
      "   comp.sys.mac.hardware       0.85      0.80      0.82       193\n",
      "          comp.windows.x       0.84      0.85      0.85       198\n",
      "            misc.forsale       0.88      0.72      0.79       195\n",
      "               rec.autos       0.88      0.86      0.87       198\n",
      "         rec.motorcycles       0.91      0.95      0.93       199\n",
      "      rec.sport.baseball       0.94      0.97      0.95       199\n",
      "        rec.sport.hockey       0.92      0.94      0.93       200\n",
      "               sci.crypt       0.86      0.93      0.89       198\n",
      "         sci.electronics       0.85      0.78      0.81       197\n",
      "                 sci.med       0.92      0.89      0.91       198\n",
      "               sci.space       0.91      0.92      0.92       197\n",
      "  soc.religion.christian       0.66      0.97      0.79       199\n",
      "      talk.politics.guns       0.72      0.96      0.82       182\n",
      "   talk.politics.mideast       0.91      0.94      0.92       188\n",
      "      talk.politics.misc       0.98      0.63      0.77       155\n",
      "      talk.religion.misc       0.93      0.21      0.34       126\n",
      "\n",
      "                accuracy                           0.84      3770\n",
      "               macro avg       0.85      0.82      0.82      3770\n",
      "            weighted avg       0.85      0.84      0.83      3770\n",
      "\n"
     ]
    }
   ],
   "source": [
    "print(classification_report(Y_test, clf.predict(X_test), target_names=label_encoder.classes_))"
   ]
  },
  {
   "cell_type": "code",
   "execution_count": 64,
   "metadata": {},
   "outputs": [],
   "source": [
    "pred = clf.predict(X_test)"
   ]
  },
  {
   "cell_type": "code",
   "execution_count": 65,
   "metadata": {},
   "outputs": [
    {
     "data": {
      "text/plain": [
       "array([ 1, 16,  5, ...,  4, 15, 17])"
      ]
     },
     "execution_count": 65,
     "metadata": {},
     "output_type": "execute_result"
    }
   ],
   "source": [
    "pred"
   ]
  },
  {
   "cell_type": "markdown",
   "metadata": {},
   "source": [
    "# Accuracy for test set"
   ]
  },
  {
   "cell_type": "code",
   "execution_count": 66,
   "metadata": {},
   "outputs": [],
   "source": [
    "from sklearn.metrics import accuracy_score"
   ]
  },
  {
   "cell_type": "code",
   "execution_count": 67,
   "metadata": {},
   "outputs": [
    {
     "data": {
      "text/plain": [
       "0.8371352785145889"
      ]
     },
     "execution_count": 67,
     "metadata": {},
     "output_type": "execute_result"
    }
   ],
   "source": [
    "accuracy_score(Y_test, pred)"
   ]
  },
  {
   "cell_type": "markdown",
   "metadata": {},
   "source": [
    "# Confusion matrix"
   ]
  },
  {
   "cell_type": "code",
   "execution_count": 68,
   "metadata": {},
   "outputs": [],
   "source": [
    "from sklearn.metrics import confusion_matrix"
   ]
  },
  {
   "cell_type": "code",
   "execution_count": 69,
   "metadata": {},
   "outputs": [
    {
     "name": "stdout",
     "output_type": "stream",
     "text": [
      "Confusion matrix:\n",
      "[[120   1   0   0   1   0   0   0   1   0   0   0   0   2   0  26   3   5\n",
      "    0   1]\n",
      " [  0 158   7   6   4   9   1   2   0   0   1   4   1   1   1   0   0   0\n",
      "    0   0]\n",
      " [  0   6 158  14   1  12   0   1   0   2   0   1   0   0   2   0   0   0\n",
      "    0   0]\n",
      " [  0   4  15 150   8   3   5   1   1   0   1   0   6   1   0   0   0   1\n",
      "    0   0]\n",
      " [  0   5   4  11 155   1   3   1   1   1   0   5   6   0   0   0   0   0\n",
      "    0   0]\n",
      " [  0  14   5   3   1 169   0   0   1   1   0   1   0   0   2   1   0   0\n",
      "    0   0]\n",
      " [  0   1   1  14   8   2 140   7   4   1   5   3   5   1   2   1   0   0\n",
      "    0   0]\n",
      " [  0   1   2   2   1   0   3 171   7   2   1   0   1   3   0   1   3   0\n",
      "    0   0]\n",
      " [  0   0   2   0   0   0   2   1 189   1   1   0   0   0   1   0   2   0\n",
      "    0   0]\n",
      " [  0   0   1   0   0   0   0   1   0 193   3   0   0   0   1   0   0   0\n",
      "    0   0]\n",
      " [  0   1   2   0   0   0   1   2   0   3 188   1   0   2   0   0   0   0\n",
      "    0   0]\n",
      " [  0   2   3   0   0   3   0   0   0   0   1 184   2   0   0   0   1   1\n",
      "    0   1]\n",
      " [  0  10   4   6   3   0   4   6   0   0   1   5 154   0   2   0   2   0\n",
      "    0   0]\n",
      " [  1   6   0   0   0   0   0   0   0   0   1   3   6 177   1   1   1   1\n",
      "    0   0]\n",
      " [  0   4   1   1   0   0   0   0   0   0   0   1   1   3 182   2   2   0\n",
      "    0   0]\n",
      " [  1   0   0   0   0   0   1   0   0   0   0   1   0   0   0 194   0   2\n",
      "    0   0]\n",
      " [  0   0   0   0   0   0   0   0   1   0   0   3   0   0   0   2 174   1\n",
      "    1   0]\n",
      " [  0   0   0   0   1   0   0   0   0   0   2   0   0   0   0   6   2 176\n",
      "    1   0]\n",
      " [  0   2   1   0   0   0   0   1   1   1   0   2   0   2   4   3  34   6\n",
      "   98   0]\n",
      " [ 18   0   0   0   0   2   0   0   2   1   0   1   0   0   2  55  18   1\n",
      "    0  26]]\n"
     ]
    }
   ],
   "source": [
    "cm = confusion_matrix(Y_test, pred)\n",
    "print(\"Confusion matrix:\")\n",
    "print(cm)"
   ]
  },
  {
   "cell_type": "code",
   "execution_count": 70,
   "metadata": {},
   "outputs": [
    {
     "data": {
      "text/plain": [
       "<matplotlib.colorbar.Colorbar at 0x25dcc776a08>"
      ]
     },
     "execution_count": 70,
     "metadata": {},
     "output_type": "execute_result"
    },
    {
     "data": {
      "image/png": "[encoded data removed]",
      "text/plain": [
       "<Figure size 288x288 with 2 Axes>"
      ]
     },
     "metadata": {
      "needs_background": "light"
     },
     "output_type": "display_data"
    }
   ],
   "source": [
    "plt.matshow(cm)\n",
    "plt.colorbar()"
   ]
  },
  {
   "cell_type": "markdown",
   "metadata": {},
   "source": [
    "# Testing with sklearn MLPClassifier"
   ]
  },
  {
   "cell_type": "code",
   "execution_count": 72,
   "metadata": {},
   "outputs": [],
   "source": [
    "from sklearn.neural_network import MLPClassifier"
   ]
  },
  {
   "cell_type": "code",
   "execution_count": 73,
   "metadata": {},
   "outputs": [],
   "source": [
    "clf = MLPClassifier(alpha=1e-5, hidden_layer_sizes=(50,), random_state=42, early_stopping=True)"
   ]
  },
  {
   "cell_type": "code",
   "execution_count": 74,
   "metadata": {},
   "outputs": [
    {
     "name": "stdout",
     "output_type": "stream",
     "text": [
      "done in 137.318924s\n"
     ]
    }
   ],
   "source": [
    "t0 = time()\n",
    "\n",
    "clf.fit(X_train, Y_train)\n",
    "\n",
    "print(\"done in %fs\" % (time() - t0))"
   ]
  },
  {
   "cell_type": "markdown",
   "metadata": {},
   "source": [
    "# Classification report for train set"
   ]
  },
  {
   "cell_type": "code",
   "execution_count": 76,
   "metadata": {},
   "outputs": [
    {
     "name": "stdout",
     "output_type": "stream",
     "text": [
      "                          precision    recall  f1-score   support\n",
      "\n",
      "             alt.atheism       0.98      0.97      0.98       639\n",
      "           comp.graphics       0.98      0.97      0.97       778\n",
      " comp.os.ms-windows.misc       0.97      0.97      0.97       788\n",
      "comp.sys.ibm.pc.hardware       0.95      0.96      0.96       786\n",
      "   comp.sys.mac.hardware       0.98      0.97      0.98       770\n",
      "          comp.windows.x       0.96      0.99      0.97       790\n",
      "            misc.forsale       0.95      0.97      0.96       780\n",
      "               rec.autos       0.98      0.99      0.98       792\n",
      "         rec.motorcycles       1.00      0.99      0.99       797\n",
      "      rec.sport.baseball       0.99      1.00      1.00       795\n",
      "        rec.sport.hockey       1.00      0.99      0.99       799\n",
      "               sci.crypt       0.99      0.99      0.99       793\n",
      "         sci.electronics       0.97      0.97      0.97       787\n",
      "                 sci.med       0.98      0.99      0.99       792\n",
      "               sci.space       0.99      0.99      0.99       790\n",
      "  soc.religion.christian       0.99      0.99      0.99       798\n",
      "      talk.politics.guns       0.99      0.99      0.99       728\n",
      "   talk.politics.mideast       1.00      0.99      0.99       752\n",
      "      talk.politics.misc       0.99      0.97      0.98       620\n",
      "      talk.religion.misc       0.98      0.97      0.97       502\n",
      "\n",
      "                accuracy                           0.98     15076\n",
      "               macro avg       0.98      0.98      0.98     15076\n",
      "            weighted avg       0.98      0.98      0.98     15076\n",
      "\n"
     ]
    }
   ],
   "source": [
    "print(classification_report(Y_train, clf.predict(X_train), target_names=label_encoder.classes_))"
   ]
  },
  {
   "cell_type": "markdown",
   "metadata": {},
   "source": [
    "# Classification report for test set"
   ]
  },
  {
   "cell_type": "code",
   "execution_count": 77,
   "metadata": {},
   "outputs": [
    {
     "name": "stdout",
     "output_type": "stream",
     "text": [
      "                          precision    recall  f1-score   support\n",
      "\n",
      "             alt.atheism       0.86      0.82      0.84       160\n",
      "           comp.graphics       0.81      0.85      0.83       195\n",
      " comp.os.ms-windows.misc       0.81      0.84      0.82       197\n",
      "comp.sys.ibm.pc.hardware       0.77      0.78      0.77       196\n",
      "   comp.sys.mac.hardware       0.87      0.84      0.85       193\n",
      "          comp.windows.x       0.82      0.88      0.85       198\n",
      "            misc.forsale       0.85      0.84      0.84       195\n",
      "               rec.autos       0.89      0.91      0.90       198\n",
      "         rec.motorcycles       0.96      0.90      0.93       199\n",
      "      rec.sport.baseball       0.95      0.97      0.96       199\n",
      "        rec.sport.hockey       0.98      0.94      0.96       200\n",
      "               sci.crypt       0.95      0.93      0.94       198\n",
      "         sci.electronics       0.85      0.84      0.84       197\n",
      "                 sci.med       0.93      0.91      0.92       198\n",
      "               sci.space       0.94      0.95      0.95       197\n",
      "  soc.religion.christian       0.88      0.92      0.90       199\n",
      "      talk.politics.guns       0.92      0.90      0.91       182\n",
      "   talk.politics.mideast       0.97      0.96      0.96       188\n",
      "      talk.politics.misc       0.86      0.86      0.86       155\n",
      "      talk.religion.misc       0.74      0.76      0.75       126\n",
      "\n",
      "                accuracy                           0.88      3770\n",
      "               macro avg       0.88      0.88      0.88      3770\n",
      "            weighted avg       0.88      0.88      0.88      3770\n",
      "\n"
     ]
    }
   ],
   "source": [
    "print(classification_report(Y_test, clf.predict(X_test), target_names=label_encoder.classes_))"
   ]
  },
  {
   "cell_type": "code",
   "execution_count": 78,
   "metadata": {},
   "outputs": [],
   "source": [
    "pred = clf.predict(X_test)"
   ]
  },
  {
   "cell_type": "code",
   "execution_count": 79,
   "metadata": {},
   "outputs": [
    {
     "data": {
      "text/plain": [
       "array([ 1, 19,  5, ...,  4, 15, 17])"
      ]
     },
     "execution_count": 79,
     "metadata": {},
     "output_type": "execute_result"
    }
   ],
   "source": [
    "pred"
   ]
  },
  {
   "cell_type": "markdown",
   "metadata": {},
   "source": [
    "# Accuracy for test set"
   ]
  },
  {
   "cell_type": "code",
   "execution_count": 80,
   "metadata": {},
   "outputs": [
    {
     "data": {
      "text/plain": [
       "0.883289124668435"
      ]
     },
     "execution_count": 80,
     "metadata": {},
     "output_type": "execute_result"
    }
   ],
   "source": [
    "accuracy_score(Y_test, pred)"
   ]
  },
  {
   "cell_type": "code",
   "execution_count": 81,
   "metadata": {},
   "outputs": [
    {
     "name": "stdout",
     "output_type": "stream",
     "text": [
      "Confusion matrix:\n",
      "[[132   1   0   0   0   0   0   0   0   0   0   2   0   2   0   5   2   2\n",
      "    1  13]\n",
      " [  0 166   5   4   3  11   1   0   0   1   0   1   3   0   0   0   0   0\n",
      "    0   0]\n",
      " [  0   3 165  13   2  11   1   0   0   0   0   1   0   0   1   0   0   0\n",
      "    0   0]\n",
      " [  0   5  14 152   6   1   9   1   0   0   0   0   6   2   0   0   0   0\n",
      "    0   0]\n",
      " [  0   5   4   9 162   1   3   0   1   0   0   1   6   0   0   0   0   0\n",
      "    1   0]\n",
      " [  0  12   5   2   1 174   0   2   0   1   0   0   0   0   1   0   0   0\n",
      "    0   0]\n",
      " [  0   1   1   6   6   5 163   3   2   0   2   1   5   0   0   0   0   0\n",
      "    0   0]\n",
      " [  0   0   0   3   0   1   4 181   3   1   0   0   2   2   0   0   0   0\n",
      "    0   1]\n",
      " [  0   1   1   0   0   1   2   8 179   1   0   0   0   1   0   0   2   1\n",
      "    0   2]\n",
      " [  0   0   0   0   0   0   1   0   0 194   2   0   1   0   1   0   0   0\n",
      "    0   0]\n",
      " [  0   1   1   0   0   1   1   1   0   6 187   0   0   1   0   0   0   0\n",
      "    1   0]\n",
      " [  1   2   1   1   0   2   1   0   0   0   0 185   2   0   0   0   0   0\n",
      "    2   1]\n",
      " [  0   4   2   6   5   0   3   5   0   0   0   1 165   0   5   0   0   0\n",
      "    1   0]\n",
      " [  1   3   0   1   0   1   0   1   1   0   0   0   5 181   0   1   1   0\n",
      "    1   1]\n",
      " [  1   1   2   0   0   0   0   0   0   0   0   0   0   2 188   1   1   0\n",
      "    1   0]\n",
      " [  3   0   0   0   0   0   1   0   0   0   0   0   0   0   0 183   1   1\n",
      "    0  10]\n",
      " [  3   0   0   0   0   0   0   0   0   0   0   3   0   1   0   0 164   0\n",
      "   10   1]\n",
      " [  1   0   1   0   1   0   0   0   0   0   0   0   0   1   0   1   1 180\n",
      "    2   0]\n",
      " [  1   0   1   0   0   0   2   1   0   1   0   0   0   2   3   0   6   1\n",
      "  133   4]\n",
      " [ 10   0   0   0   0   2   0   0   0   0   0   0   0   0   0  16   0   1\n",
      "    1  96]]\n"
     ]
    }
   ],
   "source": [
    "cm = confusion_matrix(Y_test, pred)\n",
    "print(\"Confusion matrix:\")\n",
    "print(cm)"
   ]
  },
  {
   "cell_type": "code",
   "execution_count": 82,
   "metadata": {},
   "outputs": [
    {
     "data": {
      "text/plain": [
       "<matplotlib.colorbar.Colorbar at 0x25dcc419e08>"
      ]
     },
     "execution_count": 82,
     "metadata": {},
     "output_type": "execute_result"
    },
    {
     "data": {
      "image/png": "[encoded data removed]",
      "text/plain": [
       "<Figure size 288x288 with 2 Axes>"
      ]
     },
     "metadata": {
      "needs_background": "light"
     },
     "output_type": "display_data"
    }
   ],
   "source": [
    "plt.matshow(cm)\n",
    "plt.colorbar()"
   ]
  },
  {
   "cell_type": "code",
   "execution_count": 83,
   "metadata": {},
   "outputs": [
    {
     "data": {
      "text/plain": [
       "26"
      ]
     },
     "execution_count": 83,
     "metadata": {},
     "output_type": "execute_result"
    }
   ],
   "source": [
    "clf.n_iter_"
   ]
  },
  {
   "cell_type": "code",
   "execution_count": 84,
   "metadata": {},
   "outputs": [
    {
     "data": {
      "text/plain": [
       "(15076, 20)"
      ]
     },
     "execution_count": 84,
     "metadata": {},
     "output_type": "execute_result"
    }
   ],
   "source": [
    "encoder = OneHotEncoder()\n",
    "\n",
    "Y_train_e = encoder.fit_transform(Y_train.reshape(-1, 1)).toarray()\n",
    "Y_train_e.shape\n"
   ]
  },
  {
   "cell_type": "markdown",
   "metadata": {},
   "source": [
    "# Testing with Custom Neural Network"
   ]
  },
  {
   "cell_type": "code",
   "execution_count": 85,
   "metadata": {},
   "outputs": [],
   "source": [
    "cls = NeuralNet(normalize = False, learning_rate = 0.1, max_iter = 30, hidden_layer_sizes=(50,),\\\n",
    "                beta = 0.999, epsilon=1e-8, tol=1e-6, batch_size=4096)"
   ]
  },
  {
   "cell_type": "code",
   "execution_count": 86,
   "metadata": {},
   "outputs": [
    {
     "data": {
      "text/plain": [
       "2"
      ]
     },
     "execution_count": 86,
     "metadata": {},
     "output_type": "execute_result"
    }
   ],
   "source": [
    "cls.n_layers"
   ]
  },
  {
   "cell_type": "code",
   "execution_count": 96,
   "metadata": {},
   "outputs": [
    {
     "name": "stdout",
     "output_type": "stream",
     "text": [
      "0-th iteration: 0.14524861624005986\n",
      "10-th iteration: 0.004239147887674579\n",
      "20-th iteration: 0.0025426013871539294\n"
     ]
    },
    {
     "data": {
      "image/png": "[encoded data removed]",
      "text/plain": [
       "<Figure size 432x288 with 1 Axes>"
      ]
     },
     "metadata": {
      "needs_background": "light"
     },
     "output_type": "display_data"
    },
    {
     "name": "stdout",
     "output_type": "stream",
     "text": [
      "done in 134.448889s\n"
     ]
    }
   ],
   "source": [
    "t0 = time()\n",
    "\n",
    "cls.fit(X_train, Y_train_e)\n",
    "\n",
    "print(\"done in %fs\" % (time() - t0))"
   ]
  },
  {
   "cell_type": "code",
   "execution_count": 97,
   "metadata": {},
   "outputs": [
    {
     "data": {
      "text/plain": [
       "29"
      ]
     },
     "execution_count": 97,
     "metadata": {},
     "output_type": "execute_result"
    }
   ],
   "source": [
    "cls.n_iter"
   ]
  },
  {
   "cell_type": "markdown",
   "metadata": {},
   "source": [
    "# Classification report for train set"
   ]
  },
  {
   "cell_type": "code",
   "execution_count": 98,
   "metadata": {},
   "outputs": [
    {
     "name": "stdout",
     "output_type": "stream",
     "text": [
      "                          precision    recall  f1-score   support\n",
      "\n",
      "             alt.atheism       1.00      0.97      0.98       639\n",
      "           comp.graphics       0.99      0.99      0.99       778\n",
      " comp.os.ms-windows.misc       0.99      0.99      0.99       788\n",
      "comp.sys.ibm.pc.hardware       0.98      0.99      0.99       786\n",
      "   comp.sys.mac.hardware       0.99      0.99      0.99       770\n",
      "          comp.windows.x       1.00      0.99      0.99       790\n",
      "            misc.forsale       0.98      0.99      0.98       780\n",
      "               rec.autos       1.00      0.99      0.99       792\n",
      "         rec.motorcycles       1.00      1.00      1.00       797\n",
      "      rec.sport.baseball       1.00      1.00      1.00       795\n",
      "        rec.sport.hockey       1.00      1.00      1.00       799\n",
      "               sci.crypt       0.99      1.00      0.99       793\n",
      "         sci.electronics       0.99      0.99      0.99       787\n",
      "                 sci.med       1.00      1.00      1.00       792\n",
      "               sci.space       1.00      1.00      1.00       790\n",
      "  soc.religion.christian       1.00      0.99      1.00       798\n",
      "      talk.politics.guns       0.99      0.99      0.99       728\n",
      "   talk.politics.mideast       1.00      1.00      1.00       752\n",
      "      talk.politics.misc       0.99      0.98      0.99       620\n",
      "      talk.religion.misc       0.95      1.00      0.97       502\n",
      "\n",
      "                accuracy                           0.99     15076\n",
      "               macro avg       0.99      0.99      0.99     15076\n",
      "            weighted avg       0.99      0.99      0.99     15076\n",
      "\n"
     ]
    }
   ],
   "source": [
    "print(classification_report(Y_train, cls.predict(X_train), target_names=label_encoder.classes_))"
   ]
  },
  {
   "cell_type": "markdown",
   "metadata": {},
   "source": [
    "# Classification report for test set"
   ]
  },
  {
   "cell_type": "code",
   "execution_count": 99,
   "metadata": {},
   "outputs": [
    {
     "name": "stdout",
     "output_type": "stream",
     "text": [
      "                          precision    recall  f1-score   support\n",
      "\n",
      "             alt.atheism       0.74      0.77      0.75       160\n",
      "           comp.graphics       0.73      0.69      0.71       195\n",
      " comp.os.ms-windows.misc       0.74      0.74      0.74       197\n",
      "comp.sys.ibm.pc.hardware       0.62      0.70      0.66       196\n",
      "   comp.sys.mac.hardware       0.75      0.71      0.73       193\n",
      "          comp.windows.x       0.81      0.82      0.82       198\n",
      "            misc.forsale       0.65      0.69      0.67       195\n",
      "               rec.autos       0.81      0.81      0.81       198\n",
      "         rec.motorcycles       0.94      0.83      0.88       199\n",
      "      rec.sport.baseball       0.89      0.89      0.89       199\n",
      "        rec.sport.hockey       0.93      0.92      0.92       200\n",
      "               sci.crypt       0.89      0.89      0.89       198\n",
      "         sci.electronics       0.79      0.77      0.78       197\n",
      "                 sci.med       0.87      0.85      0.86       198\n",
      "               sci.space       0.90      0.90      0.90       197\n",
      "  soc.religion.christian       0.90      0.84      0.87       199\n",
      "      talk.politics.guns       0.83      0.88      0.86       182\n",
      "   talk.politics.mideast       0.93      0.93      0.93       188\n",
      "      talk.politics.misc       0.80      0.76      0.78       155\n",
      "      talk.religion.misc       0.63      0.73      0.68       126\n",
      "\n",
      "                accuracy                           0.81      3770\n",
      "               macro avg       0.81      0.81      0.81      3770\n",
      "            weighted avg       0.81      0.81      0.81      3770\n",
      "\n"
     ]
    }
   ],
   "source": [
    "print(classification_report(Y_test, cls.predict(X_test), target_names=label_encoder.classes_))"
   ]
  },
  {
   "cell_type": "code",
   "execution_count": 100,
   "metadata": {},
   "outputs": [
    {
     "name": "stdout",
     "output_type": "stream",
     "text": [
      "(3770, 20)\n"
     ]
    }
   ],
   "source": [
    "Y_prob = cls.predict_proba(X_test)\n",
    "print(Y_prob.shape)"
   ]
  },
  {
   "cell_type": "code",
   "execution_count": 101,
   "metadata": {},
   "outputs": [
    {
     "data": {
      "text/plain": [
       "array([[1.97207579e-07, 9.99053197e-01, 4.44945577e-05, ...,\n",
       "        1.23738229e-07, 1.17538332e-04, 5.22861206e-08],\n",
       "       [1.49293356e-02, 2.00247153e-08, 6.11783106e-06, ...,\n",
       "        5.51566320e-03, 6.79833041e-06, 9.79090491e-01],\n",
       "       [4.44396724e-08, 3.25813700e-05, 5.55275401e-05, ...,\n",
       "        1.94351240e-04, 2.91237029e-07, 4.26161477e-05],\n",
       "       ...,\n",
       "       [2.05002983e-04, 3.62118790e-03, 6.25149204e-04, ...,\n",
       "        4.45461959e-05, 2.77235568e-04, 1.05750205e-04],\n",
       "       [4.45031312e-03, 2.75015524e-05, 7.38261027e-06, ...,\n",
       "        1.41881641e-03, 2.92167830e-03, 1.06482080e-02],\n",
       "       [1.47351314e-04, 7.04153425e-04, 1.05440184e-05, ...,\n",
       "        7.44981753e-01, 1.21730524e-02, 7.46618893e-06]])"
      ]
     },
     "execution_count": 101,
     "metadata": {},
     "output_type": "execute_result"
    }
   ],
   "source": [
    "Y_prob"
   ]
  },
  {
   "cell_type": "code",
   "execution_count": 102,
   "metadata": {},
   "outputs": [
    {
     "name": "stdout",
     "output_type": "stream",
     "text": [
      "1.97207578575706e-07\n",
      "0.9990531970583765\n",
      "4.449455768796158e-05\n",
      "2.715949692926389e-06\n",
      "4.9938574705837094e-05\n",
      "2.1737825650671742e-05\n",
      "0.00021438854832417554\n",
      "9.982276811456903e-08\n",
      "1.192718978812116e-07\n",
      "5.873847231996512e-08\n",
      "3.94966278742827e-07\n",
      "3.233125684043091e-05\n",
      "0.0001134858085475214\n",
      "0.00034682990452744155\n",
      "1.7802831740110556e-06\n",
      "3.0293620926137795e-07\n",
      "2.1293301393689828e-07\n",
      "1.2373822947734288e-07\n",
      "0.0001175383319037316\n",
      "5.2286120640593714e-08\n"
     ]
    }
   ],
   "source": [
    "for i in range(len(Y_prob[0])):\n",
    "    print((Y_prob[0][i]))"
   ]
  },
  {
   "cell_type": "code",
   "execution_count": 103,
   "metadata": {},
   "outputs": [
    {
     "data": {
      "text/plain": [
       "1.0"
      ]
     },
     "execution_count": 103,
     "metadata": {},
     "output_type": "execute_result"
    }
   ],
   "source": [
    "Y_prob[0][0:20].sum()"
   ]
  },
  {
   "cell_type": "code",
   "execution_count": 104,
   "metadata": {},
   "outputs": [
    {
     "data": {
      "text/plain": [
       "array([ 1, 19,  5, ...,  4, 15, 17], dtype=int64)"
      ]
     },
     "execution_count": 104,
     "metadata": {},
     "output_type": "execute_result"
    }
   ],
   "source": [
    "Y_hat = cls.predict(X_test)\n",
    "Y_hat"
   ]
  },
  {
   "cell_type": "markdown",
   "metadata": {},
   "source": [
    "# Accuracy for test set"
   ]
  },
  {
   "cell_type": "code",
   "execution_count": 105,
   "metadata": {},
   "outputs": [
    {
     "data": {
      "text/plain": [
       "0.8082228116710876"
      ]
     },
     "execution_count": 105,
     "metadata": {},
     "output_type": "execute_result"
    }
   ],
   "source": [
    "\n",
    "accuracy_score(Y_test, Y_hat)"
   ]
  },
  {
   "cell_type": "markdown",
   "metadata": {},
   "source": [
    "# Confusion matrix"
   ]
  },
  {
   "cell_type": "code",
   "execution_count": 106,
   "metadata": {},
   "outputs": [
    {
     "name": "stdout",
     "output_type": "stream",
     "text": [
      "Confusion matrix:\n",
      "[[132   1   0   0   0   0   0   0   0   0   0   2   0   2   0   5   2   2\n",
      "    1  13]\n",
      " [  0 166   5   4   3  11   1   0   0   1   0   1   3   0   0   0   0   0\n",
      "    0   0]\n",
      " [  0   3 165  13   2  11   1   0   0   0   0   1   0   0   1   0   0   0\n",
      "    0   0]\n",
      " [  0   5  14 152   6   1   9   1   0   0   0   0   6   2   0   0   0   0\n",
      "    0   0]\n",
      " [  0   5   4   9 162   1   3   0   1   0   0   1   6   0   0   0   0   0\n",
      "    1   0]\n",
      " [  0  12   5   2   1 174   0   2   0   1   0   0   0   0   1   0   0   0\n",
      "    0   0]\n",
      " [  0   1   1   6   6   5 163   3   2   0   2   1   5   0   0   0   0   0\n",
      "    0   0]\n",
      " [  0   0   0   3   0   1   4 181   3   1   0   0   2   2   0   0   0   0\n",
      "    0   1]\n",
      " [  0   1   1   0   0   1   2   8 179   1   0   0   0   1   0   0   2   1\n",
      "    0   2]\n",
      " [  0   0   0   0   0   0   1   0   0 194   2   0   1   0   1   0   0   0\n",
      "    0   0]\n",
      " [  0   1   1   0   0   1   1   1   0   6 187   0   0   1   0   0   0   0\n",
      "    1   0]\n",
      " [  1   2   1   1   0   2   1   0   0   0   0 185   2   0   0   0   0   0\n",
      "    2   1]\n",
      " [  0   4   2   6   5   0   3   5   0   0   0   1 165   0   5   0   0   0\n",
      "    1   0]\n",
      " [  1   3   0   1   0   1   0   1   1   0   0   0   5 181   0   1   1   0\n",
      "    1   1]\n",
      " [  1   1   2   0   0   0   0   0   0   0   0   0   0   2 188   1   1   0\n",
      "    1   0]\n",
      " [  3   0   0   0   0   0   1   0   0   0   0   0   0   0   0 183   1   1\n",
      "    0  10]\n",
      " [  3   0   0   0   0   0   0   0   0   0   0   3   0   1   0   0 164   0\n",
      "   10   1]\n",
      " [  1   0   1   0   1   0   0   0   0   0   0   0   0   1   0   1   1 180\n",
      "    2   0]\n",
      " [  1   0   1   0   0   0   2   1   0   1   0   0   0   2   3   0   6   1\n",
      "  133   4]\n",
      " [ 10   0   0   0   0   2   0   0   0   0   0   0   0   0   0  16   0   1\n",
      "    1  96]]\n"
     ]
    }
   ],
   "source": [
    "cm = confusion_matrix(Y_test, pred)\n",
    "print(\"Confusion matrix:\")\n",
    "print(cm)"
   ]
  },
  {
   "cell_type": "code",
   "execution_count": 107,
   "metadata": {},
   "outputs": [
    {
     "data": {
      "text/plain": [
       "<matplotlib.colorbar.Colorbar at 0x25dccc4c248>"
      ]
     },
     "execution_count": 107,
     "metadata": {},
     "output_type": "execute_result"
    },
    {
     "data": {
      "image/png": "[encoded data removed]",
      "text/plain": [
       "<Figure size 288x288 with 2 Axes>"
      ]
     },
     "metadata": {
      "needs_background": "light"
     },
     "output_type": "display_data"
    }
   ],
   "source": [
    "plt.matshow(cm)\n",
    "plt.colorbar()"
   ]
  },
  {
   "cell_type": "code",
   "execution_count": null,
   "metadata": {},
   "outputs": [],
   "source": []
  }
 ],
 "metadata": {
  "kernelspec": {
   "display_name": "Python 3",
   "language": "python",
   "name": "python3"
  },
  "language_info": {
   "codemirror_mode": {
    "name": "ipython",
    "version": 3
   },
   "file_extension": ".py",
   "mimetype": "text/x-python",
   "name": "python",
   "nbconvert_exporter": "python",
   "pygments_lexer": "ipython3",
   "version": "3.7.6"
  }
 },
 "nbformat": 4,
 "nbformat_minor": 4
}
